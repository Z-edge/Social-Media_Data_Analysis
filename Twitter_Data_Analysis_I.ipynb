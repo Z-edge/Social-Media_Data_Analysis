{
 "cells": [
  {
   "cell_type": "code",
   "execution_count": 1,
   "id": "6e860210",
   "metadata": {},
   "outputs": [],
   "source": [
    "import tweepy as tw\n",
    "import pandas as pd\n",
    "import pickle as pk"
   ]
  },
  {
   "cell_type": "code",
   "execution_count": 2,
   "id": "a06a93d9",
   "metadata": {},
   "outputs": [
    {
     "data": {
      "text/plain": [
       "401"
      ]
     },
     "execution_count": 2,
     "metadata": {},
     "output_type": "execute_result"
    }
   ],
   "source": [
    "with open('Section-1_original_tweets.pkl', 'rb') as f:\n",
    "    original_tweets = pk.load(f)\n",
    "\n",
    "len(original_tweets)"
   ]
  },
  {
   "cell_type": "code",
   "execution_count": 14,
   "id": "c0b65bb6",
   "metadata": {},
   "outputs": [],
   "source": [
    "import re\n",
    "\n",
    "email_regex = re.compile(\"([a-z0-9!#$%&'*+\\/=?^_`{|.}~-]+@(?:[a-z0-9](?:[a-z0-9-]*[a-z0-9])?\\.)+[a-z0-9](?:[a-z0-9-]*[a-z0-9])?)\", re.IGNORECASE)\n",
    "phone_no_regex = re.compile(\"\\D[0-9]{10}\\D\")\n",
    "pincode_regex = re.compile(\"\\\\D[1-9]{1}[0-9]{2}[0-9]{3}\\\\D|\\\\D[1-9]{1}[0-9]{2}\\\\s{1}[0-9]{3}\\\\D\")\n",
    "aadhar_regex = re.compile(\"\\\\s[2-9]{1}[0-9]{3}\\\\s[0-9]{4}\\\\s[0-9]{4}\\\\s\")\n",
    "vehicle_no_regex = re.compile(\"[A-Z]{2}[0-9]{1,2}(?:[A-Z])?(?:[A-Z]*)?[0-9]{4}\")"
   ]
  },
  {
   "cell_type": "code",
   "execution_count": 15,
   "id": "12a37e2c",
   "metadata": {
    "scrolled": true
   },
   "outputs": [
    {
     "name": "stdout",
     "output_type": "stream",
     "text": [
      "@DelhiPolice @CPDelhi Dear Sir, My car White Suzuki Vitara Breeza has been stolen from Shakti Nagar, Delhi-110007 on yesterday 14/02/2021 @ 8 am. In this regards, when i visited my nearest PS Roop Nagar, they told me that we cant register your FIR as DP website is not working.\n",
      "\n",
      "Location: rui mandi sadar bazaar delhi 110006\n",
      "Social distancing, covid norms, crowding, encroachment on streets \n",
      "Authorities are sleeping over it\n",
      "@drharshvardhan @CMODelhi @msisodia @SatyendarJain @LtGovDelhi @DelhiPolice @DcpNorthDelhi @DCPNWestDelhi @CPDelhi @dtptraffic https://t.co/6jMhy7mw6d\n",
      "\n",
      "Drinking in Public Place\n",
      "Moet’s Civil Lines\n",
      "Delhi 110054\n",
      "09/04/2021\n",
      "20:45\n",
      "@DelhiPolice https://t.co/Xu8Dh7qZZK\n",
      "\n",
      "@LtGovDelhi @DcpNorthDelhi @CPDelhi @PMOIndia @AmitShah\n",
      "Rem 04 :Despite of all efforts made including meetings with SHO Burari, ACP Civil lines, ADCP, DCP/North &amp; Jt CP Cen, nothing has so far been done wrt FIR No.1004/14.May resolve it now as it is already delayed. 8178082002.\n",
      "\n",
      "@CPDelhi  save my life subhash chand \n",
      "9999877060 https://t.co/PHdJtAxagi\n",
      "\n",
      "Delhi police please help me 8700034868 https://t.co/6afOVQwYIk\n",
      "\n",
      "@DelhiPolice @CPDelhi @LtGovDelhi @HMOIndia Please see the corruption of p.s.lahori GATE .\n",
      "HERE they snatch in the name of mask not wearing properly they booked for 2000/- But they take bribe of 500/- per person But also they achieve their target more than 100000/- per day.They received daily collection of 100000/-\n",
      "\n",
      "@DcpNorthDelhi sir there is continuously 2 days of mobile snatching in our area. Yesterday One old lady had been injured badly and got fracture due to this. Yet no resolution by police till now. \n",
      "Kindly help. \n",
      "Our Area - Gali No 1, Prem Nagar, Shakti Nagar, Delhi - 110007 .\n",
      "\n",
      "@DelhiPolice\n",
      "@DcpNorthDelhi @ManojTiwariMP @LtGovDelhi\n",
      "@CPDelhi\n",
      "@ManojTiwariMPआपसे अनुरोध है🙏\n",
      "बुराड़ी दिल्ली मे भारती,आशा@bharti96511970को उनके सामने रहने वाला सुनील और जगदीश परेशान कर रहा है\n",
      "कृपया उनकी मदद करके एक गरीब विधवा की लाज बचाओ\n",
      "उनका नंबर8527379140है\n",
      "इस बहन की मदद करे\n",
      "\n",
      "@DCPNORTHDELHI  Sudesh Kumar Meri gadi  DL6CN4104 doubling number 6 year old Maruti Celerio authority incharge M L o Mukesh Dayal Mere per Dava banaa rahe hain ke apni gadi ka number change karo yah Meri gadi hai hi white colour grey colour ki gar Maruti Baleno https://t.co/F4X3sCJSkr\n",
      "\n",
      "@DCPNewDelhi \n",
      "I have Empaly axis bank burari delhi mujhe releaving letter chahiye nahi de rahe hai prasan torcher kar rahe plz help me two child mai khanha jaunga mai prasan mujhe kr rahe torcher plz khanhi ur job kar sake deepak kumar 193922 axis bank delhi\n",
      "\n",
      "@LtGovDelhi @DcpNorthDelhi @CPDelhi @PMOIndia  @AmitShah\n",
      " An identified notorious boy with 3, committed theft of a precious water-motor in broad daylight in front of its owner on 15.08.20 resulted an FIR No. ND-BU-547/20 but nothing has so far been done. 8178082002.\n",
      "\n",
      "@DcpNorthDelhi @LtGovDelhi @CPDelhi @DelhiPolice My Bike was theft  bullet in RED Colour from Durga Park Sagar Pur in 01 Nov Morning 04:20 Am and  bike No. DL9SBK8597 FIR No. 028328. \n",
      "\n",
      "check from these Theft person https://t.co/UL27V1OLwX\n",
      "\n",
      "@DcpNorthDelhi  \n",
      "महोदय सर।  में करतार nagar दिल्ली 110053 मैं रहता हूं महोदय मेरा थाना उस्मानपुर है  sir मेरी बाईक चोरी हों गाए हैं 1/10/2020 को sir 3 din हो गाए हैं उसका कुछ पता नहीं चला रहा है f I r 025138\n",
      "\n",
      "@dcptsr @dtptraffic \n",
      "Location DWARKA SECTOR 7\n",
      "DATE:-21/10/20\n",
      "TIME:- 04:15 PM\n",
      "\n",
      "VIOLET THE ZEBRA CROSSING RULE \n",
      "VEHICLE NO IS \n",
      "DL9CAK3298\n",
      "DL9COS7802 https://t.co/ObfKiAbfO1\n",
      "\n",
      "@DcpNorthDelhi @CPDelhi @DelhiPolice My brezza DL3CF0096 still missing\n",
      "\n",
      "@DcpNorthDelhi @CPDelhi @DelhiPolice DL8SBV3267 please inform me if you having my bike ..apache rtr black colour.\n",
      "\n",
      "@CPDelhi @DCPWestDelhi @DcpNorthDelhi \n",
      "Ek police karmchari 500 rs mask challan katne m apni jaan laga deta h kabi koi Bina paise diye na Chala Jaye \n",
      "Lekin Meri car DL10CS3196 chori hue 4 months ho gye uske liye effort ni dikhane jabki chor ki footage bi h \n",
      "Kuch to kro https://t.co/Dnhe6d3MVA\n",
      "\n",
      "I was duped off INR18000 by bunch of fraudsters.  @CPDelhi I know the officials are corrupt and doesnt want to work honestly, but the least the could've done was to lodge my complaint with cyber crime. I'm confident they wouldn't have been able to make recovery\n",
      "\n",
      "@HelthMinistry  @drharshvardhan @esichq @LabourMinistry @dir_ed\n",
      "@AmitShah @ZeeBiharNews @NavbharatTimes @DcpNorthDelhi @DCPSouthDelhiसर ज़िसका EMP. ID -110501 हैं और isne  MURDER KAR DIYA 30.09.2020 KO आपसब से निवेदन हैं  की विभगिये कार्यवाही हो इसको  DUTY से  trminet किया जाये. https://t.co/CZ10ARoxgB\n",
      "\n",
      "@DcpNorthDelhi @NorthDmc @DcClz @CPCB_OFFICIAL @LtGovDelhi Encroachment of Govt/Public Land by Illegal Parking Mafia operating out of Lehna Singh Market,Malka Ganj,Delhi 110007. Local residents live in fear as they are threatened by car owners who park forcibly permitted by mafia https://t.co/2xl6EV9pl2\n",
      "\n",
      "@DcpNorthDelhi @NorthDmc @CPDelhi many times I have tweeted that DIGGING of basement and illegal construction work is going on in plot no 8349/50 new anaj mandi.filmistan cinema hall delhi 110006 but no one is serious in SBAZAR POLICE STATION AND NORTHMCD CITY SADAR PAHAR GANJ ZO https://t.co/Fgvuv65xjp\n",
      "\n",
      "यहाँ गाय माता बन्दर वाला गुलाबी बाग़ DDA डिस्ट्रिक पार्क शास्त्री नगर में पिछले 2 दिनों से बीमार है, कई जगह फ़ोन करने के बाद भी कोई भी डिपार्टमेंट इसकी सुध लेने वाला नहीं है, सम्बंधित डिपार्टमेंट कृपया संज्ञान ले Mob. 9811659740\n",
      "@ArvindKejriwal \n",
      "@DelhiPolice \n",
      "@TajinderBagga https://t.co/N6RdWeuRZT\n",
      "\n"
     ]
    },
    {
     "data": {
      "text/html": [
       "<div>\n",
       "<style scoped>\n",
       "    .dataframe tbody tr th:only-of-type {\n",
       "        vertical-align: middle;\n",
       "    }\n",
       "\n",
       "    .dataframe tbody tr th {\n",
       "        vertical-align: top;\n",
       "    }\n",
       "\n",
       "    .dataframe thead th {\n",
       "        text-align: right;\n",
       "    }\n",
       "</style>\n",
       "<table border=\"1\" class=\"dataframe\">\n",
       "  <thead>\n",
       "    <tr style=\"text-align: right;\">\n",
       "      <th></th>\n",
       "      <th>Number of PIIs</th>\n",
       "    </tr>\n",
       "    <tr>\n",
       "      <th>PII Type</th>\n",
       "      <th></th>\n",
       "    </tr>\n",
       "  </thead>\n",
       "  <tbody>\n",
       "    <tr>\n",
       "      <th>emails</th>\n",
       "      <td>0</td>\n",
       "    </tr>\n",
       "    <tr>\n",
       "      <th>phone-no</th>\n",
       "      <td>6</td>\n",
       "    </tr>\n",
       "    <tr>\n",
       "      <th>pincode</th>\n",
       "      <td>11</td>\n",
       "    </tr>\n",
       "    <tr>\n",
       "      <th>aadhar-no</th>\n",
       "      <td>0</td>\n",
       "    </tr>\n",
       "    <tr>\n",
       "      <th>vehicle-no</th>\n",
       "      <td>8</td>\n",
       "    </tr>\n",
       "  </tbody>\n",
       "</table>\n",
       "</div>"
      ],
      "text/plain": [
       "            Number of PIIs\n",
       "PII Type                  \n",
       "emails                   0\n",
       "phone-no                 6\n",
       "pincode                 11\n",
       "aadhar-no                0\n",
       "vehicle-no               8"
      ]
     },
     "execution_count": 15,
     "metadata": {},
     "output_type": "execute_result"
    }
   ],
   "source": [
    "num_emails, num_phno, num_pincodes, num_aadhar, num_vehicle = 0, 0, 0, 0, 0\n",
    "\n",
    "for tweet in original_tweets:\n",
    "    text = tweet.full_text\n",
    "    emails_list = re.findall(email_regex, text)\n",
    "    phno_list = re.findall(phone_no_regex, text)\n",
    "    pincodes_list = re.findall(pincode_regex, text)\n",
    "    aadhar_list = re.findall(aadhar_regex, text)\n",
    "    vehicle_no_list = re.findall(vehicle_no_regex, text)\n",
    "    num_emails += len(emails_list)\n",
    "    num_phno += len(phno_list)\n",
    "    num_pincodes += len(pincodes_list)\n",
    "    num_aadhar += len(aadhar_list)\n",
    "    num_vehicle += len(vehicle_no_list)\n",
    "    if len(emails_list) > 0 or len(phno_list) > 0 or len(pincodes_list) > 0 or len(aadhar_list) > 0 or len(vehicle_no_list) > 0:\n",
    "        print(text)\n",
    "        print()\n",
    "\n",
    "pii_dict = {}\n",
    "pii_dict['emails'] = num_emails\n",
    "pii_dict['phone-no'] = num_phno\n",
    "pii_dict['pincode'] = num_pincodes\n",
    "pii_dict['aadhar-no'] = num_aadhar\n",
    "pii_dict['vehicle-no'] = num_vehicle\n",
    "\n",
    "pii_df = pd.DataFrame({'PII Type': list(pii_dict.keys()), 'Number of PIIs': list(pii_dict.values())})\n",
    "pii_df.set_index('PII Type', inplace = True)\n",
    "pii_df"
   ]
  },
  {
   "cell_type": "code",
   "execution_count": 10,
   "id": "e43a8e70",
   "metadata": {},
   "outputs": [
    {
     "name": "stdout",
     "output_type": "stream",
     "text": [
      "https://pbs.twimg.com/ext_tw_video_thumb/1382047862385635330/pu/img/ozDeUQT0IEFTQ4qf.jpg\n",
      "https://pbs.twimg.com/ext_tw_video_thumb/1375108823774470149/pu/img/nF9mbpxHNkztbRDo.jpg\n",
      "https://pbs.twimg.com/media/ErySmNPVoAAHlvV.jpg\n",
      "https://pbs.twimg.com/ext_tw_video_thumb/1381559962137165828/pu/img/peAhBYhhBlm2hTCS.jpg\n",
      "https://pbs.twimg.com/ext_tw_video_thumb/1381103908249075712/pu/img/LPXtSO22idivr-g0.jpg\n",
      "https://pbs.twimg.com/media/Eyiv7_hVgAUeQTo.jpg\n",
      "https://pbs.twimg.com/media/Eya7k1NVcAA6hKN.jpg\n",
      "https://pbs.twimg.com/media/Ex-M5pPUUAQFTze.jpg\n",
      "https://pbs.twimg.com/ext_tw_video_thumb/1376810498730065924/pu/img/0gFiy3Q0DryL941E.jpg\n",
      "https://pbs.twimg.com/media/ExtEdYFVcAIDnop.jpg\n",
      "https://pbs.twimg.com/media/Exjrq1iU4AYelWY.jpg\n",
      "https://pbs.twimg.com/media/ExPRHBkVkAIzmaW.jpg\n",
      "https://pbs.twimg.com/ext_tw_video_thumb/1375137996081557504/pu/img/XHkcnP_C9r5hAR0i.jpg\n",
      "https://pbs.twimg.com/media/ExPjXgAXEAkE6nl.jpg\n",
      "https://pbs.twimg.com/media/ExOQa4xUcAMqL7u.jpg\n",
      "https://pbs.twimg.com/media/ExAA0JBUUAIXFTJ.jpg\n",
      "https://pbs.twimg.com/media/Ew2DmHSWUAY89KC.jpg\n",
      "https://pbs.twimg.com/ext_tw_video_thumb/1372497618375303170/pu/img/M_4ROYofYxUWONVz.jpg\n",
      "https://pbs.twimg.com/ext_tw_video_thumb/1371764266324267012/pu/img/4qN5uZuqZDjAOCWs.jpg\n",
      "https://pbs.twimg.com/media/EwlezlPUYAEFcpV.jpg\n",
      "https://pbs.twimg.com/ext_tw_video_thumb/1370345292608937988/pu/img/ZVc495wILSLtLEaZ.jpg\n",
      "https://pbs.twimg.com/media/EwLzprLUUAMwgUr.jpg\n",
      "https://pbs.twimg.com/media/EwAIvwXUcAAGvTf.jpg\n",
      "https://pbs.twimg.com/media/Ev9mh-QU8Ac6LgL.jpg\n",
      "https://pbs.twimg.com/ext_tw_video_thumb/1367444770449059843/pu/img/3nVVQe05QXJd35K8.jpg\n",
      "https://pbs.twimg.com/ext_tw_video_thumb/1367485766956367876/pu/img/qrjwj28MoOlm-vEO.jpg\n",
      "https://pbs.twimg.com/ext_tw_video_thumb/1360520067277029377/pu/img/p2FCLM3kZL_Cz2RR.jpg\n",
      "https://pbs.twimg.com/ext_tw_video_thumb/1366473666158977026/pu/img/xJmwSQO_Kt_g1-Ts.jpg\n",
      "https://pbs.twimg.com/media/EtNPUdWWgAAYiT6.jpg\n",
      "https://pbs.twimg.com/media/EuqrY94VgAUnvvn.jpg\n",
      "https://pbs.twimg.com/media/EvHwze3UUAY7_EA.jpg\n",
      "https://pbs.twimg.com/media/Eu6FP-XU4AADUsc.jpg\n",
      "https://pbs.twimg.com/media/EuwhCJLVcAYz7IJ.jpg\n",
      "https://pbs.twimg.com/ext_tw_video_thumb/1360966465449381890/pu/img/3WOEn-pcajyP-1_4.jpg\n",
      "https://pbs.twimg.com/media/Et3DWE2VkAAwflK.jpg\n",
      "https://pbs.twimg.com/media/Etxq7OeXAAAad2b.jpg\n",
      "https://pbs.twimg.com/media/Etiu17IVIAMC7A7.jpg\n",
      "https://pbs.twimg.com/media/EtTJUSUWYAAH6QX.jpg\n",
      "https://pbs.twimg.com/media/EtTRbcLUUAAXEkp.jpg\n",
      "https://pbs.twimg.com/ext_tw_video_thumb/1352100744636243968/pu/img/1bssfMxS5DBx_0sB.jpg\n",
      "https://pbs.twimg.com/ext_tw_video_thumb/1349000147083145219/pu/img/MKzDtXO7lgkTLop2.jpg\n",
      "https://pbs.twimg.com/ext_tw_video_thumb/1348706305150578688/pu/img/GfgwtoU4pztYMBeU.jpg\n",
      "https://pbs.twimg.com/media/Eq58iQLVQAAEy3g.jpg\n",
      "https://pbs.twimg.com/media/Eq1Lk5GXMAIx0tU.jpg\n",
      "https://pbs.twimg.com/media/EqD8N7cUYAIWVOq.jpg\n",
      "https://pbs.twimg.com/ext_tw_video_thumb/1342017023392374784/pu/img/LvWfyAlCqzubhKuo.jpg\n",
      "https://pbs.twimg.com/media/EpaGk1kVEAEM6O4.jpg\n",
      "https://pbs.twimg.com/media/EpVmJbiU0AIsRdo.jpg\n",
      "https://pbs.twimg.com/media/EpC603YUYAAjjpq.jpg\n",
      "https://pbs.twimg.com/media/EpKp8zPVgAIgjGc.jpg\n",
      "https://pbs.twimg.com/media/EoYxY8mU8AEYf_7.jpg\n",
      "https://pbs.twimg.com/media/EoFufG8VcAcjLuf.jpg\n",
      "https://pbs.twimg.com/media/EoT67_4VgAYOArT.jpg\n",
      "https://pbs.twimg.com/media/EoQDJC-VEAE3H9n.jpg\n",
      "https://pbs.twimg.com/media/EoQDxODVkAE90R-.jpg\n",
      "https://pbs.twimg.com/ext_tw_video_thumb/1333660353498992645/pu/img/NoH66GU8NtKhh9ia.jpg\n",
      "https://pbs.twimg.com/media/EoEqEdpVkAMk9gJ.jpg\n",
      "https://pbs.twimg.com/media/En-u9xCVEAEvspp.jpg\n",
      "https://pbs.twimg.com/media/En_GToXUwAASAwc.jpg\n",
      "https://pbs.twimg.com/media/En-vy_BUcAAtsY3.jpg\n",
      "https://pbs.twimg.com/media/Env4qK5VoAAE0gf.jpg\n",
      "https://pbs.twimg.com/media/Eno_dJnWMAAU_po.jpg\n",
      "https://pbs.twimg.com/media/Enlp1w7VgAEF51a.jpg\n",
      "https://pbs.twimg.com/media/EncFqZ2VEAAdmzb.jpg\n",
      "https://pbs.twimg.com/ext_tw_video_thumb/1330024106335428608/pu/img/fwQlfYFKdR8IDZDF.jpg\n",
      "https://pbs.twimg.com/media/EnW0SWNXIAIS3-d.jpg\n",
      "https://pbs.twimg.com/media/EnLsZkmUUAAUCV_.jpg\n",
      "https://pbs.twimg.com/media/EnLXGKTVgAEHoOx.jpg\n",
      "https://pbs.twimg.com/ext_tw_video_thumb/1329243090175967237/pu/img/CNK-KYANom7dUBc3.jpg\n",
      "https://pbs.twimg.com/media/EnBv5cmVcAIe4WY.jpg\n",
      "https://pbs.twimg.com/media/EmyEbdlVgAAISt3.jpg\n",
      "https://pbs.twimg.com/ext_tw_video_thumb/1326781784927956993/pu/img/nE3OKVBwoLf-oa-K.jpg\n",
      "https://pbs.twimg.com/ext_tw_video_thumb/1326053422538223616/pu/img/JrXV5YqrS0H183A4.jpg\n",
      "https://pbs.twimg.com/media/EmXqnzhVkAAabY5.jpg\n",
      "https://pbs.twimg.com/media/EmTWGb5VMAAUV92.jpg\n",
      "https://pbs.twimg.com/media/EmN9UhRXIAI8yoD.jpg\n",
      "https://pbs.twimg.com/media/EmKSFVMU8AAH30m.jpg\n",
      "https://pbs.twimg.com/media/EmNQI7-U8AI8OzG.jpg\n",
      "https://pbs.twimg.com/media/EmKHVFTVcAAjfaO.jpg\n",
      "https://pbs.twimg.com/media/Ek2rsNsXYAAqGzi.jpg\n",
      "https://pbs.twimg.com/media/EmILbh-VgAAcBRb.jpg\n",
      "https://pbs.twimg.com/media/EmHTn9hW0AUzkp1.jpg\n",
      "https://pbs.twimg.com/ext_tw_video_thumb/1324563669313744896/pu/img/ttXjm1zsTIdhIlgA.jpg\n",
      "https://pbs.twimg.com/media/El_LtgeVMAAoMvd.jpg\n",
      "https://pbs.twimg.com/media/ElvPoTEU4AEwMMS.jpg\n",
      "https://pbs.twimg.com/media/El6BBcKVgAUch_d.jpg\n",
      "https://pbs.twimg.com/media/El6Eqe4VMAIT1lh.jpg\n",
      "https://pbs.twimg.com/media/El0vbrSVcAIsxHR.jpg\n",
      "https://pbs.twimg.com/ext_tw_video_thumb/1323517908161474560/pu/img/3LDnGTYz_hQITkE4.jpg\n",
      "https://pbs.twimg.com/ext_tw_video_thumb/1322951542094192640/pu/img/zlqOjlrcpAujMAU2.jpg\n",
      "https://pbs.twimg.com/media/El0AU9AVkAAE8C6.jpg\n",
      "https://pbs.twimg.com/media/ElzgLQBU0AI_L1p.jpg\n",
      "https://pbs.twimg.com/ext_tw_video_thumb/1322578535668539392/pu/img/bY8UEJjCzxUzOsgn.jpg\n",
      "https://pbs.twimg.com/media/ElwW4R0XIAMMRzL.jpg\n",
      "https://pbs.twimg.com/media/ElpzCInVgAEETaM.jpg\n",
      "https://pbs.twimg.com/media/Elp2aEeVoAAxaw5.jpg\n",
      "https://pbs.twimg.com/media/Elu6IurU0AElLNk.jpg\n",
      "https://pbs.twimg.com/media/Elttrr6U4AAcCao.jpg\n",
      "https://pbs.twimg.com/media/ElrOYkGXgAIo51n.jpg\n",
      "https://pbs.twimg.com/ext_tw_video_thumb/1322599837427290119/pu/img/zRdytJlgtPHDS-Kg.jpg\n",
      "https://pbs.twimg.com/ext_tw_video_thumb/1322233551266344961/pu/img/pEODy7hD4ZFthFHf.jpg\n",
      "https://pbs.twimg.com/media/ElUYOQjUwAApCfS.jpg\n",
      "https://pbs.twimg.com/ext_tw_video_thumb/1321670239067648000/pu/img/YG8VDVQzEsqZKLqe.jpg\n",
      "https://pbs.twimg.com/media/Ek2Xd0WVMAEi_3Z.jpg\n",
      "https://pbs.twimg.com/media/Ekd_OPeUUAMDL_P.jpg\n",
      "https://pbs.twimg.com/ext_tw_video_thumb/1322050460568580097/pu/img/BhVTr2JqtbobgNXn.jpg\n",
      "https://pbs.twimg.com/ext_tw_video_thumb/1322051149097168896/pu/img/l8X6v4qW7aucV1eR.jpg\n",
      "https://pbs.twimg.com/media/EleeeMuVMAAupzy.jpg\n",
      "https://pbs.twimg.com/media/EklUs3vU0AIH_yl.jpg\n",
      "https://pbs.twimg.com/media/EkrehK_XIAEJu-O.jpg\n",
      "https://pbs.twimg.com/ext_tw_video_thumb/1318421503529029632/pu/img/bUQOE287CAYmNF2P.jpg\n",
      "https://pbs.twimg.com/ext_tw_video_thumb/1318811413154992128/pu/img/PMUT133EcOXcbkN_.jpg\n",
      "https://pbs.twimg.com/ext_tw_video_thumb/1317869250024034305/pu/img/bynrtMDQYutOPFU5.jpg\n",
      "https://pbs.twimg.com/ext_tw_video_thumb/1318382646217428992/pu/img/Q8EX19mKPR2gMtwG.jpg\n",
      "https://pbs.twimg.com/ext_tw_video_thumb/1317400800717500416/pu/img/QfWUFiFbOpkCWMYR.jpg\n",
      "https://pbs.twimg.com/media/EkeBMTTU8AUcCat.jpg\n",
      "https://pbs.twimg.com/media/EkVoGfoUcAATvJT.jpg\n",
      "https://pbs.twimg.com/media/EkXaUkAVcAAGFrw.jpg\n",
      "https://pbs.twimg.com/media/EkYgqZcUcAASG-s.jpg\n",
      "https://pbs.twimg.com/ext_tw_video_thumb/1316898601608470529/pu/img/LxSgwUFeTqSChH97.jpg\n",
      "https://pbs.twimg.com/media/EeHA3elUwAAHqZ6.jpg\n",
      "https://pbs.twimg.com/ext_tw_video_thumb/1286209494876225536/pu/img/glfcL_CM8-bGKmFA.jpg\n",
      "https://pbs.twimg.com/media/EdEBkfmUEAIV7RA.jpg\n",
      "https://pbs.twimg.com/media/Eb-bJesUEAQNaGQ.jpg\n",
      "https://pbs.twimg.com/ext_tw_video_thumb/1276423964546367491/pu/img/OfjnlmpPzcWtxe0m.jpg\n",
      "https://pbs.twimg.com/media/Ea2ZtzhU8AEnEDA.jpg\n",
      "https://pbs.twimg.com/ext_tw_video_thumb/1269130159577198592/pu/img/tIyNbMEaJVbIptjw.jpg\n",
      "https://pbs.twimg.com/ext_tw_video_thumb/1253906473056231424/pu/img/e4Gow9ILXtry8qfY.jpg\n",
      "https://pbs.twimg.com/ext_tw_video_thumb/1253906214129303554/pu/img/PYo4CUoFTmtVvg09.jpg\n",
      "https://pbs.twimg.com/media/EWDDW7UX0AMmhAL.jpg\n",
      "https://pbs.twimg.com/media/EVi_cegUUAAfMr_.png\n",
      "https://pbs.twimg.com/media/ET-CkWqUwAEFo5X.jpg\n",
      "https://pbs.twimg.com/ext_tw_video_thumb/1229429182263808000/pu/img/QoGK5SpZuJtLM-on.jpg\n",
      "https://pbs.twimg.com/media/EQ9Wo1NUUAcVzcJ.jpg\n",
      "https://pbs.twimg.com/media/EQ9Wo1NUUAcVzcJ.jpg\n",
      "https://pbs.twimg.com/media/EME9_zwUwAIwMQO.jpg\n",
      "https://pbs.twimg.com/media/EAdyGG4UYAA-i_X.jpg\n",
      "https://pbs.twimg.com/media/D_CA-0GVUAA4Vo4.jpg\n",
      "https://pbs.twimg.com/media/DykuqTzWwAA3pnR.jpg\n",
      "https://pbs.twimg.com/media/DrA04jEXgAAuM6Z.jpg\n",
      "https://pbs.twimg.com/media/Dnw0xOwX4AAC_rn.jpg\n",
      "https://pbs.twimg.com/media/DkpZQnqXgAA23mq.jpg\n",
      "https://pbs.twimg.com/media/DkE8rGwWwAE_gcZ.jpg\n",
      "https://pbs.twimg.com/media/Di2BRzuWsAAHcLz.jpg\n",
      "\n",
      "Number of tweets containing media: 144\n"
     ]
    }
   ],
   "source": [
    "num_media_tweets = 0\n",
    "\n",
    "for tweet in original_tweets:\n",
    "    entities = tweet.entities\n",
    "    if 'media' in entities:\n",
    "        num_media_tweets += 1\n",
    "        print(entities['media'][0]['media_url_https'])   \n",
    "\n",
    "print('\\nNumber of tweets containing media:', num_media_tweets)        "
   ]
  },
  {
   "cell_type": "code",
   "execution_count": 11,
   "id": "9036a466",
   "metadata": {},
   "outputs": [
    {
     "data": {
      "text/plain": [
       "1842"
      ]
     },
     "execution_count": 11,
     "metadata": {},
     "output_type": "execute_result"
    }
   ],
   "source": [
    "with open('Section-1_tweets.pkl', 'rb') as f:\n",
    "    all_tweets = pk.load(f)\n",
    "\n",
    "len(all_tweets)"
   ]
  },
  {
   "cell_type": "code",
   "execution_count": 12,
   "id": "ed675e33",
   "metadata": {},
   "outputs": [],
   "source": [
    "orig_to_all_dict = {}\n",
    "\n",
    "for tweet in all_tweets:\n",
    "    original_tweet_id = tweet.in_reply_to_status_id\n",
    "    if (original_tweet_id is not None):\n",
    "        orig_to_all_dict[original_tweet_id] = tweet.created_at"
   ]
  },
  {
   "cell_type": "code",
   "execution_count": 13,
   "id": "c171e5ef",
   "metadata": {},
   "outputs": [
    {
     "name": "stdout",
     "output_type": "stream",
     "text": [
      "Minimum Response Time:\t\t\t 0:00:00\n",
      "Maximum Response Time:\t\t\t 100 days, 6:53:46\n",
      "Mean Response Time:\t\t\t 3 days, 13:58:48.770781\n",
      "Standard Deviation of Response Time:\t 11 days, 13:26:23.183289\n"
     ]
    }
   ],
   "source": [
    "response_times_dict = {}\n",
    "\n",
    "for tweet in original_tweets:\n",
    "    response_times_dict[tweet.created_at] = (orig_to_all_dict[tweet.id] - tweet.created_at).total_seconds()\n",
    "    \n",
    "import statistics, datetime\n",
    "\n",
    "response_times_list = list(response_times_dict.values())\n",
    "print('Minimum Response Time:\\t\\t\\t', datetime.timedelta(seconds = min(response_times_list)))\n",
    "print('Maximum Response Time:\\t\\t\\t', datetime.timedelta(seconds = max(response_times_list)))\n",
    "print('Mean Response Time:\\t\\t\\t', datetime.timedelta(seconds = statistics.mean(response_times_list)))\n",
    "print('Standard Deviation of Response Time:\\t', datetime.timedelta(seconds = statistics.pstdev(response_times_list)))"
   ]
  },
  {
   "cell_type": "code",
   "execution_count": 29,
   "id": "50ec97d1",
   "metadata": {
    "scrolled": false
   },
   "outputs": [
    {
     "data": {
      "application/vnd.plotly.v1+json": {
       "config": {
        "plotlyServerURL": "https://plot.ly"
       },
       "data": [
        {
         "hovertemplate": "Created_At=%{x}<br>Response_Time=%{y}<extra></extra>",
         "legendgroup": "",
         "line": {
          "color": "#636efa",
          "dash": "solid"
         },
         "mode": "lines",
         "name": "",
         "orientation": "v",
         "showlegend": false,
         "type": "scatter",
         "x": [
          "2014-07-04T11:00:03",
          "2014-07-05T03:59:54",
          "2016-08-02T09:07:05",
          "2016-09-11T11:36:12",
          "2017-04-23T12:27:47",
          "2017-12-23T04:48:37",
          "2018-07-13T15:39:18",
          "2018-07-15T15:11:59",
          "2018-07-24T04:35:58",
          "2018-07-25T17:46:38",
          "2018-07-30T17:00:06",
          "2018-08-03T07:08:45",
          "2018-08-03T08:47:36",
          "2018-08-08T12:25:41",
          "2018-08-15T14:17:56",
          "2018-08-19T09:35:43",
          "2018-09-22T13:52:33",
          "2018-09-23T07:41:21",
          "2018-11-02T17:08:00",
          "2019-02-04T16:12:24",
          "2019-02-22T11:38:53",
          "2019-07-09T11:49:13",
          "2019-07-27T07:29:17",
          "2019-09-25T09:44:39",
          "2019-09-27T09:59:50",
          "2019-12-18T14:59:12",
          "2019-12-24T19:35:28",
          "2019-12-25T00:28:54",
          "2020-02-04T09:28:37",
          "2020-02-17T06:48:51",
          "2020-02-17T15:36:44",
          "2020-03-01T15:05:10",
          "2020-03-01T15:06:20",
          "2020-03-25T16:47:19",
          "2020-03-25T16:57:20",
          "2020-03-26T13:38:49",
          "2020-04-14T06:00:17",
          "2020-04-14T07:15:20",
          "2020-04-20T12:41:35",
          "2020-04-24T07:33:34",
          "2020-04-25T04:39:14",
          "2020-04-25T04:40:05",
          "2020-04-25T05:40:34",
          "2020-05-01T06:22:23",
          "2020-05-05T14:11:15",
          "2020-05-18T16:41:38",
          "2020-05-19T16:45:07",
          "2020-05-26T12:16:39",
          "2020-05-29T19:14:21",
          "2020-05-29T19:32:36",
          "2020-05-30T00:27:31",
          "2020-06-02T08:16:31",
          "2020-06-06T04:53:38",
          "2020-06-07T08:56:08",
          "2020-06-08T13:04:28",
          "2020-06-12T12:09:39",
          "2020-06-12T12:19:54",
          "2020-06-19T05:12:43",
          "2020-06-26T07:56:55",
          "2020-07-02T17:02:41",
          "2020-07-03T04:40:17",
          "2020-07-04T07:56:45",
          "2020-07-16T16:41:07",
          "2020-07-16T17:03:01",
          "2020-07-23T08:02:09",
          "2020-07-29T17:13:45",
          "2020-07-30T13:00:22",
          "2020-07-30T13:52:48",
          "2020-07-30T14:24:20",
          "2020-08-05T09:29:09",
          "2020-08-06T05:22:06",
          "2020-08-07T04:08:07",
          "2020-08-08T08:46:53",
          "2020-08-09T03:07:46",
          "2020-08-10T07:02:43",
          "2020-08-10T08:00:03",
          "2020-08-10T12:23:12",
          "2020-08-11T02:35:45",
          "2020-08-12T03:26:43",
          "2020-08-13T06:54:09",
          "2020-08-14T05:11:48",
          "2020-08-23T06:17:28",
          "2020-09-16T12:01:49",
          "2020-09-19T06:40:24",
          "2020-09-23T06:10:31",
          "2020-09-29T11:29:38",
          "2020-10-03T11:29:07",
          "2020-10-04T00:39:40",
          "2020-10-04T02:10:32",
          "2020-10-05T15:00:29",
          "2020-10-06T11:55:13",
          "2020-10-10T11:22:02",
          "2020-10-15T02:53:50",
          "2020-10-15T11:15:06",
          "2020-10-15T16:20:33",
          "2020-10-16T00:28:17",
          "2020-10-16T11:08:35",
          "2020-10-16T17:51:42",
          "2020-10-16T18:00:28",
          "2020-10-17T05:41:00",
          "2020-10-17T09:44:07",
          "2020-10-17T11:21:28",
          "2020-10-18T04:02:51",
          "2020-10-18T06:42:48",
          "2020-10-18T07:50:31",
          "2020-10-18T16:45:42",
          "2020-10-19T08:43:30",
          "2020-10-20T02:45:24",
          "2020-10-20T03:37:38",
          "2020-10-20T05:20:24",
          "2020-10-20T13:45:09",
          "2020-10-21T06:13:50",
          "2020-10-21T07:09:34",
          "2020-10-21T11:28:39",
          "2020-10-21T12:57:14",
          "2020-10-22T02:41:59",
          "2020-10-22T07:37:36",
          "2020-10-22T09:02:51",
          "2020-10-26T13:07:06",
          "2020-10-27T04:56:56",
          "2020-10-27T04:58:55",
          "2020-10-27T07:17:29",
          "2020-10-27T07:20:27",
          "2020-10-27T07:55:56",
          "2020-10-27T08:22:55",
          "2020-10-27T08:29:47",
          "2020-10-28T05:48:27",
          "2020-10-28T05:54:11",
          "2020-10-28T06:13:41",
          "2020-10-28T11:41:50",
          "2020-10-28T13:44:49",
          "2020-10-29T04:33:51",
          "2020-10-29T06:25:20",
          "2020-10-29T19:03:49",
          "2020-10-30T02:52:59",
          "2020-10-30T04:38:41",
          "2020-10-30T05:39:41",
          "2020-10-30T05:42:21",
          "2020-10-30T06:28:10",
          "2020-10-30T07:15:48",
          "2020-10-30T17:43:41",
          "2020-10-30T17:50:41",
          "2020-10-30T19:55:38",
          "2020-10-31T07:44:26",
          "2020-10-31T08:50:40",
          "2020-10-31T08:50:51",
          "2020-10-31T08:51:07",
          "2020-10-31T08:51:46",
          "2020-10-31T10:30:49",
          "2020-10-31T11:09:33",
          "2020-10-31T11:25:17",
          "2020-10-31T11:50:31",
          "2020-10-31T12:20:48",
          "2020-10-31T12:34:05",
          "2020-10-31T13:06:29",
          "2020-10-31T13:51:25",
          "2020-10-31T14:11:01",
          "2020-10-31T16:37:41",
          "2020-10-31T16:39:52",
          "2020-10-31T17:48:48",
          "2020-10-31T18:03:41",
          "2020-11-01T05:24:40",
          "2020-11-01T08:15:10",
          "2020-11-01T09:09:10",
          "2020-11-01T10:58:45",
          "2020-11-01T12:32:37",
          "2020-11-01T14:43:53",
          "2020-11-01T15:58:59",
          "2020-11-01T17:25:48",
          "2020-11-01T17:40:20",
          "2020-11-01T17:43:55",
          "2020-11-01T18:29:25",
          "2020-11-02T08:23:28",
          "2020-11-02T10:43:56",
          "2020-11-02T13:11:21",
          "2020-11-02T14:13:50",
          "2020-11-03T06:51:19",
          "2020-11-03T09:32:20",
          "2020-11-03T14:49:07",
          "2020-11-03T15:00:34",
          "2020-11-04T08:10:29",
          "2020-11-04T14:49:30",
          "2020-11-04T16:42:44",
          "2020-11-05T08:21:00",
          "2020-11-05T09:40:47",
          "2020-11-05T13:22:24",
          "2020-11-05T19:08:46",
          "2020-11-06T04:08:37",
          "2020-11-06T04:41:01",
          "2020-11-06T08:42:47",
          "2020-11-06T08:44:48",
          "2020-11-06T12:01:44",
          "2020-11-06T17:46:34",
          "2020-11-06T18:35:37",
          "2020-11-06T18:55:15",
          "2020-11-07T03:02:06",
          "2020-11-07T03:23:20",
          "2020-11-07T03:40:31",
          "2020-11-07T08:23:26",
          "2020-11-07T11:41:09",
          "2020-11-07T11:51:10",
          "2020-11-07T13:01:46",
          "2020-11-08T07:50:35",
          "2020-11-08T12:47:13",
          "2020-11-09T06:37:30",
          "2020-11-09T08:55:22",
          "2020-11-09T11:43:29",
          "2020-11-09T17:43:36",
          "2020-11-10T04:55:00",
          "2020-11-10T05:23:41",
          "2020-11-10T06:57:22",
          "2020-11-10T09:05:17",
          "2020-11-10T17:30:31",
          "2020-11-11T02:50:05",
          "2020-11-11T12:45:50",
          "2020-11-12T02:29:53",
          "2020-11-12T05:38:08",
          "2020-11-12T07:01:01",
          "2020-11-12T17:50:39",
          "2020-11-14T06:43:13",
          "2020-11-14T11:58:53",
          "2020-11-15T08:44:39",
          "2020-11-16T12:46:15",
          "2020-11-17T13:02:26",
          "2020-11-17T17:03:18",
          "2020-11-18T07:40:45",
          "2020-11-18T11:05:29",
          "2020-11-18T17:31:15",
          "2020-11-19T02:00:36",
          "2020-11-19T07:07:41",
          "2020-11-19T09:51:37",
          "2020-11-19T11:23:22",
          "2020-11-20T10:10:39",
          "2020-11-20T14:33:22",
          "2020-11-20T14:35:36",
          "2020-11-21T05:44:21",
          "2020-11-21T15:13:47",
          "2020-11-21T16:15:03",
          "2020-11-22T10:23:19",
          "2020-11-22T15:47:46",
          "2020-11-22T18:42:13",
          "2020-11-24T12:22:21",
          "2020-11-25T03:55:50",
          "2020-11-25T18:03:31",
          "2020-11-26T12:03:15",
          "2020-11-26T12:26:09",
          "2020-11-27T14:01:24",
          "2020-11-27T14:21:31",
          "2020-11-29T09:15:14",
          "2020-11-29T09:19:00",
          "2020-11-29T10:57:13",
          "2020-11-29T15:37:12",
          "2020-11-29T15:50:28",
          "2020-11-30T12:57:10",
          "2020-11-30T17:50:28",
          "2020-12-01T06:33:24",
          "2020-12-02T17:57:03",
          "2020-12-02T17:59:39",
          "2020-12-02T20:00:07",
          "2020-12-03T04:50:22",
          "2020-12-03T11:53:22",
          "2020-12-03T11:59:35",
          "2020-12-03T12:08:28",
          "2020-12-03T12:41:59",
          "2020-12-03T15:39:44",
          "2020-12-04T10:35:56",
          "2020-12-04T19:07:54",
          "2020-12-07T05:00:17",
          "2020-12-07T07:02:12",
          "2020-12-08T04:59:25",
          "2020-12-08T09:04:18",
          "2020-12-09T06:50:09",
          "2020-12-12T05:23:03",
          "2020-12-12T05:28:54",
          "2020-12-12T15:01:14",
          "2020-12-12T17:34:25",
          "2020-12-14T03:04:31",
          "2020-12-15T12:13:31",
          "2020-12-15T15:33:32",
          "2020-12-16T06:03:54",
          "2020-12-17T03:03:53",
          "2020-12-18T19:35:56",
          "2020-12-20T09:50:08",
          "2020-12-21T06:35:28",
          "2020-12-22T06:10:31",
          "2020-12-24T08:22:34",
          "2020-12-25T06:02:37",
          "2020-12-27T07:22:38",
          "2020-12-29T16:07:13",
          "2021-01-03T01:09:57",
          "2021-01-03T19:31:11",
          "2021-01-04T08:27:53",
          "2021-01-04T17:43:31",
          "2021-01-05T05:11:08",
          "2021-01-05T18:57:52",
          "2021-01-06T08:23:50",
          "2021-01-07T05:26:20",
          "2021-01-09T05:40:45",
          "2021-01-09T11:37:15",
          "2021-01-09T18:16:26",
          "2021-01-11T19:01:35",
          "2021-01-12T14:29:10",
          "2021-01-12T18:24:02",
          "2021-01-13T09:03:51",
          "2021-01-15T04:10:02",
          "2021-01-15T16:18:38",
          "2021-01-16T02:23:31",
          "2021-01-16T02:24:05",
          "2021-01-21T03:49:20",
          "2021-01-21T16:50:24",
          "2021-02-02T08:09:49",
          "2021-02-02T13:51:44",
          "2021-02-03T11:41:18",
          "2021-02-03T12:25:27",
          "2021-02-05T17:30:19",
          "2021-02-06T12:21:01",
          "2021-02-09T09:56:49",
          "2021-02-09T17:31:05",
          "2021-02-10T11:01:28",
          "2021-02-12T05:23:44",
          "2021-02-12T16:09:56",
          "2021-02-13T09:24:42",
          "2021-02-13T09:56:05",
          "2021-02-14T14:57:52",
          "2021-02-15T03:15:07",
          "2021-02-18T02:40:09",
          "2021-02-19T13:17:09",
          "2021-02-20T11:37:06",
          "2021-02-21T14:49:32",
          "2021-02-21T16:10:28",
          "2021-02-22T12:17:13",
          "2021-02-23T05:21:07",
          "2021-02-23T11:24:21",
          "2021-02-25T04:40:24",
          "2021-02-26T03:09:43",
          "2021-02-26T03:26:44",
          "2021-02-27T11:34:03",
          "2021-03-01T19:41:43",
          "2021-03-01T20:18:18",
          "2021-03-02T07:06:27",
          "2021-03-02T11:30:14",
          "2021-03-02T12:51:37",
          "2021-03-02T19:18:03",
          "2021-03-03T10:34:07",
          "2021-03-04T06:33:18",
          "2021-03-04T10:29:20",
          "2021-03-04T12:00:34",
          "2021-03-04T14:43:29",
          "2021-03-04T18:30:16",
          "2021-03-07T06:22:07",
          "2021-03-07T13:26:53",
          "2021-03-07T22:12:55",
          "2021-03-08T10:31:47",
          "2021-03-08T14:04:19",
          "2021-03-08T19:19:56",
          "2021-03-09T01:55:12",
          "2021-03-11T05:29:45",
          "2021-03-11T08:16:26",
          "2021-03-12T12:06:10",
          "2021-03-15T07:48:31",
          "2021-03-16T07:55:34",
          "2021-03-16T10:05:25",
          "2021-03-17T06:11:15",
          "2021-03-18T10:38:33",
          "2021-03-18T12:48:04",
          "2021-03-18T18:44:23",
          "2021-03-19T13:10:23",
          "2021-03-20T05:50:27",
          "2021-03-20T10:18:48",
          "2021-03-21T04:23:48",
          "2021-03-21T11:34:20",
          "2021-03-23T04:13:41",
          "2021-03-24T05:56:57",
          "2021-03-24T10:39:37",
          "2021-03-24T11:59:38",
          "2021-03-25T09:56:03",
          "2021-03-25T14:16:46",
          "2021-03-25T15:34:43",
          "2021-03-25T17:30:36",
          "2021-03-26T09:32:58",
          "2021-03-28T09:48:06",
          "2021-03-29T08:21:09",
          "2021-03-29T11:45:43",
          "2021-03-30T05:32:57",
          "2021-03-30T08:16:45",
          "2021-03-30T08:53:13",
          "2021-03-31T06:34:37",
          "2021-04-01T03:44:32",
          "2021-04-02T13:23:37",
          "2021-04-05T07:39:42",
          "2021-04-05T15:53:59",
          "2021-04-08T03:16:40",
          "2021-04-09T15:42:51",
          "2021-04-11T04:36:59",
          "2021-04-12T10:50:24",
          "2021-04-13T17:35:36",
          "2021-04-13T19:08:22"
         ],
         "xaxis": "x",
         "y": [
          25268,
          836,
          110,
          757,
          3282,
          6389,
          1431,
          75,
          1465,
          694,
          132614,
          6791,
          921,
          47774,
          1632,
          58833,
          1211,
          26862,
          1602,
          52159,
          5345,
          46206,
          4649,
          2294,
          3444,
          883,
          20580,
          2909,
          572,
          65,
          293,
          500,
          206,
          3363,
          3170,
          362,
          2322,
          385,
          907,
          1784,
          51,
          62,
          105,
          3957,
          448,
          0,
          1907,
          1592,
          997515,
          996481,
          823893,
          450292,
          358318,
          15807,
          155878,
          840577,
          839940,
          873099,
          258901,
          135522,
          39470,
          1771,
          48122,
          46858,
          2232,
          1082665,
          2100,
          126,
          73,
          94604,
          92295,
          89076,
          99088,
          100320,
          89038,
          79326,
          63948,
          89088,
          98260,
          111980,
          108654,
          401,
          170687,
          5309113,
          1398,
          80437,
          2258543,
          2194564,
          2190045,
          2057383,
          1997577,
          1635213,
          184268,
          153983,
          135390,
          102480,
          64203,
          1264826,
          141222,
          98979,
          85063,
          3728231,
          376234,
          1229567,
          182835,
          151129,
          272878,
          1794,
          977966,
          198472,
          163161,
          104707,
          102279,
          856012,
          1378720,
          29388,
          12006,
          12196,
          10730,
          368895,
          367734,
          250181,
          359335,
          357325,
          246087,
          355549,
          287920,
          287687,
          23832,
          266975,
          260772,
          191213,
          8852,
          119939,
          4685,
          167137,
          82109,
          81823,
          127049,
          124348,
          166236,
          85165,
          40860,
          35202,
          73273,
          73385,
          73678,
          73509,
          105406,
          104646,
          102497,
          104198,
          18787,
          2258,
          95940,
          3629,
          3791,
          171131,
          141004,
          41723,
          40769,
          23183,
          12563,
          20790,
          3936,
          186963,
          98118,
          2999,
          81319,
          56250,
          41319,
          38723,
          3978,
          7158,
          7033,
          83982,
          1372,
          5103,
          2760,
          2021,
          7475,
          56991,
          3199,
          17750,
          10330,
          620583,
          42804,
          9924,
          8569,
          6013,
          5544,
          6749,
          47638,
          58498,
          79924,
          11036,
          8498,
          7369,
          7961,
          9879,
          9655,
          185920,
          2418,
          3655,
          13916,
          5304,
          251,
          61612,
          128626,
          4374,
          120877,
          113777,
          47809,
          10495,
          6980,
          47869,
          2636,
          3577,
          47799,
          17079,
          13166,
          11182,
          5678,
          3394,
          169686,
          19777,
          12296,
          37691,
          7330,
          12488,
          108684,
          103316,
          109828,
          1575,
          1880,
          112356,
          1533,
          56185,
          107380,
          65308,
          69663,
          18,
          17970,
          44234,
          101839,
          70417,
          781,
          51239,
          21554,
          6682,
          14919,
          410778,
          430967,
          10907,
          313027,
          12765,
          43519,
          43054,
          47603,
          22283,
          10343,
          10028,
          9616,
          7788,
          1639,
          3716,
          162654,
          9325,
          1838,
          1598,
          8766,
          10961,
          2310,
          19641,
          178471,
          50219,
          24003,
          1181,
          55719,
          34744,
          43782,
          73668,
          99560,
          123294,
          173008,
          23296,
          25833,
          26798,
          55156,
          25297,
          63772,
          16752,
          72953,
          8664826,
          69951,
          443479,
          23103,
          193549,
          171613,
          148105,
          51431,
          156534,
          142579,
          7958828,
          23605,
          7662699,
          18581,
          18486,
          27820,
          2996,
          2527892,
          6117398,
          7747,
          1,
          2235955,
          3466,
          110861,
          5499672,
          83498,
          131560,
          1635229,
          1574207,
          85152,
          69662,
          5033041,
          4871677,
          57301,
          958886,
          5815,
          77680,
          66994,
          728669,
          260038,
          551821,
          129247,
          128567,
          491712,
          153857,
          75974,
          37256,
          187964,
          15737,
          158832,
          109165,
          36830,
          16705,
          10983,
          797,
          57684,
          453936,
          3269125,
          35234,
          11837,
          69856,
          159288,
          99303,
          699148,
          32498,
          5453,
          17980,
          23324,
          56676,
          8319,
          7771,
          54397,
          77787,
          64090,
          3066,
          65100,
          34057,
          67932,
          121563,
          28116,
          191346,
          6533,
          10541,
          84286,
          1802581,
          51086,
          9947,
          80314,
          106088,
          9178,
          787,
          19782,
          24266,
          1316290,
          105674,
          232270,
          173503,
          5531,
          135020,
          81425,
          129268,
          80802,
          260504,
          377715
         ],
         "yaxis": "y"
        }
       ],
       "layout": {
        "height": 700,
        "legend": {
         "tracegroupgap": 0
        },
        "template": {
         "data": {
          "bar": [
           {
            "error_x": {
             "color": "#2a3f5f"
            },
            "error_y": {
             "color": "#2a3f5f"
            },
            "marker": {
             "line": {
              "color": "#E5ECF6",
              "width": 0.5
             }
            },
            "type": "bar"
           }
          ],
          "barpolar": [
           {
            "marker": {
             "line": {
              "color": "#E5ECF6",
              "width": 0.5
             }
            },
            "type": "barpolar"
           }
          ],
          "carpet": [
           {
            "aaxis": {
             "endlinecolor": "#2a3f5f",
             "gridcolor": "white",
             "linecolor": "white",
             "minorgridcolor": "white",
             "startlinecolor": "#2a3f5f"
            },
            "baxis": {
             "endlinecolor": "#2a3f5f",
             "gridcolor": "white",
             "linecolor": "white",
             "minorgridcolor": "white",
             "startlinecolor": "#2a3f5f"
            },
            "type": "carpet"
           }
          ],
          "choropleth": [
           {
            "colorbar": {
             "outlinewidth": 0,
             "ticks": ""
            },
            "type": "choropleth"
           }
          ],
          "contour": [
           {
            "colorbar": {
             "outlinewidth": 0,
             "ticks": ""
            },
            "colorscale": [
             [
              0,
              "#0d0887"
             ],
             [
              0.1111111111111111,
              "#46039f"
             ],
             [
              0.2222222222222222,
              "#7201a8"
             ],
             [
              0.3333333333333333,
              "#9c179e"
             ],
             [
              0.4444444444444444,
              "#bd3786"
             ],
             [
              0.5555555555555556,
              "#d8576b"
             ],
             [
              0.6666666666666666,
              "#ed7953"
             ],
             [
              0.7777777777777778,
              "#fb9f3a"
             ],
             [
              0.8888888888888888,
              "#fdca26"
             ],
             [
              1,
              "#f0f921"
             ]
            ],
            "type": "contour"
           }
          ],
          "contourcarpet": [
           {
            "colorbar": {
             "outlinewidth": 0,
             "ticks": ""
            },
            "type": "contourcarpet"
           }
          ],
          "heatmap": [
           {
            "colorbar": {
             "outlinewidth": 0,
             "ticks": ""
            },
            "colorscale": [
             [
              0,
              "#0d0887"
             ],
             [
              0.1111111111111111,
              "#46039f"
             ],
             [
              0.2222222222222222,
              "#7201a8"
             ],
             [
              0.3333333333333333,
              "#9c179e"
             ],
             [
              0.4444444444444444,
              "#bd3786"
             ],
             [
              0.5555555555555556,
              "#d8576b"
             ],
             [
              0.6666666666666666,
              "#ed7953"
             ],
             [
              0.7777777777777778,
              "#fb9f3a"
             ],
             [
              0.8888888888888888,
              "#fdca26"
             ],
             [
              1,
              "#f0f921"
             ]
            ],
            "type": "heatmap"
           }
          ],
          "heatmapgl": [
           {
            "colorbar": {
             "outlinewidth": 0,
             "ticks": ""
            },
            "colorscale": [
             [
              0,
              "#0d0887"
             ],
             [
              0.1111111111111111,
              "#46039f"
             ],
             [
              0.2222222222222222,
              "#7201a8"
             ],
             [
              0.3333333333333333,
              "#9c179e"
             ],
             [
              0.4444444444444444,
              "#bd3786"
             ],
             [
              0.5555555555555556,
              "#d8576b"
             ],
             [
              0.6666666666666666,
              "#ed7953"
             ],
             [
              0.7777777777777778,
              "#fb9f3a"
             ],
             [
              0.8888888888888888,
              "#fdca26"
             ],
             [
              1,
              "#f0f921"
             ]
            ],
            "type": "heatmapgl"
           }
          ],
          "histogram": [
           {
            "marker": {
             "colorbar": {
              "outlinewidth": 0,
              "ticks": ""
             }
            },
            "type": "histogram"
           }
          ],
          "histogram2d": [
           {
            "colorbar": {
             "outlinewidth": 0,
             "ticks": ""
            },
            "colorscale": [
             [
              0,
              "#0d0887"
             ],
             [
              0.1111111111111111,
              "#46039f"
             ],
             [
              0.2222222222222222,
              "#7201a8"
             ],
             [
              0.3333333333333333,
              "#9c179e"
             ],
             [
              0.4444444444444444,
              "#bd3786"
             ],
             [
              0.5555555555555556,
              "#d8576b"
             ],
             [
              0.6666666666666666,
              "#ed7953"
             ],
             [
              0.7777777777777778,
              "#fb9f3a"
             ],
             [
              0.8888888888888888,
              "#fdca26"
             ],
             [
              1,
              "#f0f921"
             ]
            ],
            "type": "histogram2d"
           }
          ],
          "histogram2dcontour": [
           {
            "colorbar": {
             "outlinewidth": 0,
             "ticks": ""
            },
            "colorscale": [
             [
              0,
              "#0d0887"
             ],
             [
              0.1111111111111111,
              "#46039f"
             ],
             [
              0.2222222222222222,
              "#7201a8"
             ],
             [
              0.3333333333333333,
              "#9c179e"
             ],
             [
              0.4444444444444444,
              "#bd3786"
             ],
             [
              0.5555555555555556,
              "#d8576b"
             ],
             [
              0.6666666666666666,
              "#ed7953"
             ],
             [
              0.7777777777777778,
              "#fb9f3a"
             ],
             [
              0.8888888888888888,
              "#fdca26"
             ],
             [
              1,
              "#f0f921"
             ]
            ],
            "type": "histogram2dcontour"
           }
          ],
          "mesh3d": [
           {
            "colorbar": {
             "outlinewidth": 0,
             "ticks": ""
            },
            "type": "mesh3d"
           }
          ],
          "parcoords": [
           {
            "line": {
             "colorbar": {
              "outlinewidth": 0,
              "ticks": ""
             }
            },
            "type": "parcoords"
           }
          ],
          "pie": [
           {
            "automargin": true,
            "type": "pie"
           }
          ],
          "scatter": [
           {
            "marker": {
             "colorbar": {
              "outlinewidth": 0,
              "ticks": ""
             }
            },
            "type": "scatter"
           }
          ],
          "scatter3d": [
           {
            "line": {
             "colorbar": {
              "outlinewidth": 0,
              "ticks": ""
             }
            },
            "marker": {
             "colorbar": {
              "outlinewidth": 0,
              "ticks": ""
             }
            },
            "type": "scatter3d"
           }
          ],
          "scattercarpet": [
           {
            "marker": {
             "colorbar": {
              "outlinewidth": 0,
              "ticks": ""
             }
            },
            "type": "scattercarpet"
           }
          ],
          "scattergeo": [
           {
            "marker": {
             "colorbar": {
              "outlinewidth": 0,
              "ticks": ""
             }
            },
            "type": "scattergeo"
           }
          ],
          "scattergl": [
           {
            "marker": {
             "colorbar": {
              "outlinewidth": 0,
              "ticks": ""
             }
            },
            "type": "scattergl"
           }
          ],
          "scattermapbox": [
           {
            "marker": {
             "colorbar": {
              "outlinewidth": 0,
              "ticks": ""
             }
            },
            "type": "scattermapbox"
           }
          ],
          "scatterpolar": [
           {
            "marker": {
             "colorbar": {
              "outlinewidth": 0,
              "ticks": ""
             }
            },
            "type": "scatterpolar"
           }
          ],
          "scatterpolargl": [
           {
            "marker": {
             "colorbar": {
              "outlinewidth": 0,
              "ticks": ""
             }
            },
            "type": "scatterpolargl"
           }
          ],
          "scatterternary": [
           {
            "marker": {
             "colorbar": {
              "outlinewidth": 0,
              "ticks": ""
             }
            },
            "type": "scatterternary"
           }
          ],
          "surface": [
           {
            "colorbar": {
             "outlinewidth": 0,
             "ticks": ""
            },
            "colorscale": [
             [
              0,
              "#0d0887"
             ],
             [
              0.1111111111111111,
              "#46039f"
             ],
             [
              0.2222222222222222,
              "#7201a8"
             ],
             [
              0.3333333333333333,
              "#9c179e"
             ],
             [
              0.4444444444444444,
              "#bd3786"
             ],
             [
              0.5555555555555556,
              "#d8576b"
             ],
             [
              0.6666666666666666,
              "#ed7953"
             ],
             [
              0.7777777777777778,
              "#fb9f3a"
             ],
             [
              0.8888888888888888,
              "#fdca26"
             ],
             [
              1,
              "#f0f921"
             ]
            ],
            "type": "surface"
           }
          ],
          "table": [
           {
            "cells": {
             "fill": {
              "color": "#EBF0F8"
             },
             "line": {
              "color": "white"
             }
            },
            "header": {
             "fill": {
              "color": "#C8D4E3"
             },
             "line": {
              "color": "white"
             }
            },
            "type": "table"
           }
          ]
         },
         "layout": {
          "annotationdefaults": {
           "arrowcolor": "#2a3f5f",
           "arrowhead": 0,
           "arrowwidth": 1
          },
          "coloraxis": {
           "colorbar": {
            "outlinewidth": 0,
            "ticks": ""
           }
          },
          "colorscale": {
           "diverging": [
            [
             0,
             "#8e0152"
            ],
            [
             0.1,
             "#c51b7d"
            ],
            [
             0.2,
             "#de77ae"
            ],
            [
             0.3,
             "#f1b6da"
            ],
            [
             0.4,
             "#fde0ef"
            ],
            [
             0.5,
             "#f7f7f7"
            ],
            [
             0.6,
             "#e6f5d0"
            ],
            [
             0.7,
             "#b8e186"
            ],
            [
             0.8,
             "#7fbc41"
            ],
            [
             0.9,
             "#4d9221"
            ],
            [
             1,
             "#276419"
            ]
           ],
           "sequential": [
            [
             0,
             "#0d0887"
            ],
            [
             0.1111111111111111,
             "#46039f"
            ],
            [
             0.2222222222222222,
             "#7201a8"
            ],
            [
             0.3333333333333333,
             "#9c179e"
            ],
            [
             0.4444444444444444,
             "#bd3786"
            ],
            [
             0.5555555555555556,
             "#d8576b"
            ],
            [
             0.6666666666666666,
             "#ed7953"
            ],
            [
             0.7777777777777778,
             "#fb9f3a"
            ],
            [
             0.8888888888888888,
             "#fdca26"
            ],
            [
             1,
             "#f0f921"
            ]
           ],
           "sequentialminus": [
            [
             0,
             "#0d0887"
            ],
            [
             0.1111111111111111,
             "#46039f"
            ],
            [
             0.2222222222222222,
             "#7201a8"
            ],
            [
             0.3333333333333333,
             "#9c179e"
            ],
            [
             0.4444444444444444,
             "#bd3786"
            ],
            [
             0.5555555555555556,
             "#d8576b"
            ],
            [
             0.6666666666666666,
             "#ed7953"
            ],
            [
             0.7777777777777778,
             "#fb9f3a"
            ],
            [
             0.8888888888888888,
             "#fdca26"
            ],
            [
             1,
             "#f0f921"
            ]
           ]
          },
          "colorway": [
           "#636efa",
           "#EF553B",
           "#00cc96",
           "#ab63fa",
           "#FFA15A",
           "#19d3f3",
           "#FF6692",
           "#B6E880",
           "#FF97FF",
           "#FECB52"
          ],
          "font": {
           "color": "#2a3f5f"
          },
          "geo": {
           "bgcolor": "white",
           "lakecolor": "white",
           "landcolor": "#E5ECF6",
           "showlakes": true,
           "showland": true,
           "subunitcolor": "white"
          },
          "hoverlabel": {
           "align": "left"
          },
          "hovermode": "closest",
          "mapbox": {
           "style": "light"
          },
          "paper_bgcolor": "white",
          "plot_bgcolor": "#E5ECF6",
          "polar": {
           "angularaxis": {
            "gridcolor": "white",
            "linecolor": "white",
            "ticks": ""
           },
           "bgcolor": "#E5ECF6",
           "radialaxis": {
            "gridcolor": "white",
            "linecolor": "white",
            "ticks": ""
           }
          },
          "scene": {
           "xaxis": {
            "backgroundcolor": "#E5ECF6",
            "gridcolor": "white",
            "gridwidth": 2,
            "linecolor": "white",
            "showbackground": true,
            "ticks": "",
            "zerolinecolor": "white"
           },
           "yaxis": {
            "backgroundcolor": "#E5ECF6",
            "gridcolor": "white",
            "gridwidth": 2,
            "linecolor": "white",
            "showbackground": true,
            "ticks": "",
            "zerolinecolor": "white"
           },
           "zaxis": {
            "backgroundcolor": "#E5ECF6",
            "gridcolor": "white",
            "gridwidth": 2,
            "linecolor": "white",
            "showbackground": true,
            "ticks": "",
            "zerolinecolor": "white"
           }
          },
          "shapedefaults": {
           "line": {
            "color": "#2a3f5f"
           }
          },
          "ternary": {
           "aaxis": {
            "gridcolor": "white",
            "linecolor": "white",
            "ticks": ""
           },
           "baxis": {
            "gridcolor": "white",
            "linecolor": "white",
            "ticks": ""
           },
           "bgcolor": "#E5ECF6",
           "caxis": {
            "gridcolor": "white",
            "linecolor": "white",
            "ticks": ""
           }
          },
          "title": {
           "x": 0.05
          },
          "xaxis": {
           "automargin": true,
           "gridcolor": "white",
           "linecolor": "white",
           "ticks": "",
           "title": {
            "standoff": 15
           },
           "zerolinecolor": "white",
           "zerolinewidth": 2
          },
          "yaxis": {
           "automargin": true,
           "gridcolor": "white",
           "linecolor": "white",
           "ticks": "",
           "title": {
            "standoff": 15
           },
           "zerolinecolor": "white",
           "zerolinewidth": 2
          }
         }
        },
        "title": {
         "text": "Response Times to tweets made by other users"
        },
        "xaxis": {
         "anchor": "y",
         "domain": [
          0,
          1
         ],
         "title": {
          "text": "Created_At"
         }
        },
        "yaxis": {
         "anchor": "x",
         "domain": [
          0,
          1
         ],
         "title": {
          "text": "Response_Time"
         }
        }
       }
      },
      "text/html": [
       "<div>                            <div id=\"314f1316-aefe-49fe-a324-f0ddc3a80d95\" class=\"plotly-graph-div\" style=\"height:700px; width:100%;\"></div>            <script type=\"text/javascript\">                require([\"plotly\"], function(Plotly) {                    window.PLOTLYENV=window.PLOTLYENV || {};                                    if (document.getElementById(\"314f1316-aefe-49fe-a324-f0ddc3a80d95\")) {                    Plotly.newPlot(                        \"314f1316-aefe-49fe-a324-f0ddc3a80d95\",                        [{\"hovertemplate\": \"Created_At=%{x}<br>Response_Time=%{y}<extra></extra>\", \"legendgroup\": \"\", \"line\": {\"color\": \"#636efa\", \"dash\": \"solid\"}, \"mode\": \"lines\", \"name\": \"\", \"orientation\": \"v\", \"showlegend\": false, \"type\": \"scatter\", \"x\": [\"2014-07-04T11:00:03\", \"2014-07-05T03:59:54\", \"2016-08-02T09:07:05\", \"2016-09-11T11:36:12\", \"2017-04-23T12:27:47\", \"2017-12-23T04:48:37\", \"2018-07-13T15:39:18\", \"2018-07-15T15:11:59\", \"2018-07-24T04:35:58\", \"2018-07-25T17:46:38\", \"2018-07-30T17:00:06\", \"2018-08-03T07:08:45\", \"2018-08-03T08:47:36\", \"2018-08-08T12:25:41\", \"2018-08-15T14:17:56\", \"2018-08-19T09:35:43\", \"2018-09-22T13:52:33\", \"2018-09-23T07:41:21\", \"2018-11-02T17:08:00\", \"2019-02-04T16:12:24\", \"2019-02-22T11:38:53\", \"2019-07-09T11:49:13\", \"2019-07-27T07:29:17\", \"2019-09-25T09:44:39\", \"2019-09-27T09:59:50\", \"2019-12-18T14:59:12\", \"2019-12-24T19:35:28\", \"2019-12-25T00:28:54\", \"2020-02-04T09:28:37\", \"2020-02-17T06:48:51\", \"2020-02-17T15:36:44\", \"2020-03-01T15:05:10\", \"2020-03-01T15:06:20\", \"2020-03-25T16:47:19\", \"2020-03-25T16:57:20\", \"2020-03-26T13:38:49\", \"2020-04-14T06:00:17\", \"2020-04-14T07:15:20\", \"2020-04-20T12:41:35\", \"2020-04-24T07:33:34\", \"2020-04-25T04:39:14\", \"2020-04-25T04:40:05\", \"2020-04-25T05:40:34\", \"2020-05-01T06:22:23\", \"2020-05-05T14:11:15\", \"2020-05-18T16:41:38\", \"2020-05-19T16:45:07\", \"2020-05-26T12:16:39\", \"2020-05-29T19:14:21\", \"2020-05-29T19:32:36\", \"2020-05-30T00:27:31\", \"2020-06-02T08:16:31\", \"2020-06-06T04:53:38\", \"2020-06-07T08:56:08\", \"2020-06-08T13:04:28\", \"2020-06-12T12:09:39\", \"2020-06-12T12:19:54\", \"2020-06-19T05:12:43\", \"2020-06-26T07:56:55\", \"2020-07-02T17:02:41\", \"2020-07-03T04:40:17\", \"2020-07-04T07:56:45\", \"2020-07-16T16:41:07\", \"2020-07-16T17:03:01\", \"2020-07-23T08:02:09\", \"2020-07-29T17:13:45\", \"2020-07-30T13:00:22\", \"2020-07-30T13:52:48\", \"2020-07-30T14:24:20\", \"2020-08-05T09:29:09\", \"2020-08-06T05:22:06\", \"2020-08-07T04:08:07\", \"2020-08-08T08:46:53\", \"2020-08-09T03:07:46\", \"2020-08-10T07:02:43\", \"2020-08-10T08:00:03\", \"2020-08-10T12:23:12\", \"2020-08-11T02:35:45\", \"2020-08-12T03:26:43\", \"2020-08-13T06:54:09\", \"2020-08-14T05:11:48\", \"2020-08-23T06:17:28\", \"2020-09-16T12:01:49\", \"2020-09-19T06:40:24\", \"2020-09-23T06:10:31\", \"2020-09-29T11:29:38\", \"2020-10-03T11:29:07\", \"2020-10-04T00:39:40\", \"2020-10-04T02:10:32\", \"2020-10-05T15:00:29\", \"2020-10-06T11:55:13\", \"2020-10-10T11:22:02\", \"2020-10-15T02:53:50\", \"2020-10-15T11:15:06\", \"2020-10-15T16:20:33\", \"2020-10-16T00:28:17\", \"2020-10-16T11:08:35\", \"2020-10-16T17:51:42\", \"2020-10-16T18:00:28\", \"2020-10-17T05:41:00\", \"2020-10-17T09:44:07\", \"2020-10-17T11:21:28\", \"2020-10-18T04:02:51\", \"2020-10-18T06:42:48\", \"2020-10-18T07:50:31\", \"2020-10-18T16:45:42\", \"2020-10-19T08:43:30\", \"2020-10-20T02:45:24\", \"2020-10-20T03:37:38\", \"2020-10-20T05:20:24\", \"2020-10-20T13:45:09\", \"2020-10-21T06:13:50\", \"2020-10-21T07:09:34\", \"2020-10-21T11:28:39\", \"2020-10-21T12:57:14\", \"2020-10-22T02:41:59\", \"2020-10-22T07:37:36\", \"2020-10-22T09:02:51\", \"2020-10-26T13:07:06\", \"2020-10-27T04:56:56\", \"2020-10-27T04:58:55\", \"2020-10-27T07:17:29\", \"2020-10-27T07:20:27\", \"2020-10-27T07:55:56\", \"2020-10-27T08:22:55\", \"2020-10-27T08:29:47\", \"2020-10-28T05:48:27\", \"2020-10-28T05:54:11\", \"2020-10-28T06:13:41\", \"2020-10-28T11:41:50\", \"2020-10-28T13:44:49\", \"2020-10-29T04:33:51\", \"2020-10-29T06:25:20\", \"2020-10-29T19:03:49\", \"2020-10-30T02:52:59\", \"2020-10-30T04:38:41\", \"2020-10-30T05:39:41\", \"2020-10-30T05:42:21\", \"2020-10-30T06:28:10\", \"2020-10-30T07:15:48\", \"2020-10-30T17:43:41\", \"2020-10-30T17:50:41\", \"2020-10-30T19:55:38\", \"2020-10-31T07:44:26\", \"2020-10-31T08:50:40\", \"2020-10-31T08:50:51\", \"2020-10-31T08:51:07\", \"2020-10-31T08:51:46\", \"2020-10-31T10:30:49\", \"2020-10-31T11:09:33\", \"2020-10-31T11:25:17\", \"2020-10-31T11:50:31\", \"2020-10-31T12:20:48\", \"2020-10-31T12:34:05\", \"2020-10-31T13:06:29\", \"2020-10-31T13:51:25\", \"2020-10-31T14:11:01\", \"2020-10-31T16:37:41\", \"2020-10-31T16:39:52\", \"2020-10-31T17:48:48\", \"2020-10-31T18:03:41\", \"2020-11-01T05:24:40\", \"2020-11-01T08:15:10\", \"2020-11-01T09:09:10\", \"2020-11-01T10:58:45\", \"2020-11-01T12:32:37\", \"2020-11-01T14:43:53\", \"2020-11-01T15:58:59\", \"2020-11-01T17:25:48\", \"2020-11-01T17:40:20\", \"2020-11-01T17:43:55\", \"2020-11-01T18:29:25\", \"2020-11-02T08:23:28\", \"2020-11-02T10:43:56\", \"2020-11-02T13:11:21\", \"2020-11-02T14:13:50\", \"2020-11-03T06:51:19\", \"2020-11-03T09:32:20\", \"2020-11-03T14:49:07\", \"2020-11-03T15:00:34\", \"2020-11-04T08:10:29\", \"2020-11-04T14:49:30\", \"2020-11-04T16:42:44\", \"2020-11-05T08:21:00\", \"2020-11-05T09:40:47\", \"2020-11-05T13:22:24\", \"2020-11-05T19:08:46\", \"2020-11-06T04:08:37\", \"2020-11-06T04:41:01\", \"2020-11-06T08:42:47\", \"2020-11-06T08:44:48\", \"2020-11-06T12:01:44\", \"2020-11-06T17:46:34\", \"2020-11-06T18:35:37\", \"2020-11-06T18:55:15\", \"2020-11-07T03:02:06\", \"2020-11-07T03:23:20\", \"2020-11-07T03:40:31\", \"2020-11-07T08:23:26\", \"2020-11-07T11:41:09\", \"2020-11-07T11:51:10\", \"2020-11-07T13:01:46\", \"2020-11-08T07:50:35\", \"2020-11-08T12:47:13\", \"2020-11-09T06:37:30\", \"2020-11-09T08:55:22\", \"2020-11-09T11:43:29\", \"2020-11-09T17:43:36\", \"2020-11-10T04:55:00\", \"2020-11-10T05:23:41\", \"2020-11-10T06:57:22\", \"2020-11-10T09:05:17\", \"2020-11-10T17:30:31\", \"2020-11-11T02:50:05\", \"2020-11-11T12:45:50\", \"2020-11-12T02:29:53\", \"2020-11-12T05:38:08\", \"2020-11-12T07:01:01\", \"2020-11-12T17:50:39\", \"2020-11-14T06:43:13\", \"2020-11-14T11:58:53\", \"2020-11-15T08:44:39\", \"2020-11-16T12:46:15\", \"2020-11-17T13:02:26\", \"2020-11-17T17:03:18\", \"2020-11-18T07:40:45\", \"2020-11-18T11:05:29\", \"2020-11-18T17:31:15\", \"2020-11-19T02:00:36\", \"2020-11-19T07:07:41\", \"2020-11-19T09:51:37\", \"2020-11-19T11:23:22\", \"2020-11-20T10:10:39\", \"2020-11-20T14:33:22\", \"2020-11-20T14:35:36\", \"2020-11-21T05:44:21\", \"2020-11-21T15:13:47\", \"2020-11-21T16:15:03\", \"2020-11-22T10:23:19\", \"2020-11-22T15:47:46\", \"2020-11-22T18:42:13\", \"2020-11-24T12:22:21\", \"2020-11-25T03:55:50\", \"2020-11-25T18:03:31\", \"2020-11-26T12:03:15\", \"2020-11-26T12:26:09\", \"2020-11-27T14:01:24\", \"2020-11-27T14:21:31\", \"2020-11-29T09:15:14\", \"2020-11-29T09:19:00\", \"2020-11-29T10:57:13\", \"2020-11-29T15:37:12\", \"2020-11-29T15:50:28\", \"2020-11-30T12:57:10\", \"2020-11-30T17:50:28\", \"2020-12-01T06:33:24\", \"2020-12-02T17:57:03\", \"2020-12-02T17:59:39\", \"2020-12-02T20:00:07\", \"2020-12-03T04:50:22\", \"2020-12-03T11:53:22\", \"2020-12-03T11:59:35\", \"2020-12-03T12:08:28\", \"2020-12-03T12:41:59\", \"2020-12-03T15:39:44\", \"2020-12-04T10:35:56\", \"2020-12-04T19:07:54\", \"2020-12-07T05:00:17\", \"2020-12-07T07:02:12\", \"2020-12-08T04:59:25\", \"2020-12-08T09:04:18\", \"2020-12-09T06:50:09\", \"2020-12-12T05:23:03\", \"2020-12-12T05:28:54\", \"2020-12-12T15:01:14\", \"2020-12-12T17:34:25\", \"2020-12-14T03:04:31\", \"2020-12-15T12:13:31\", \"2020-12-15T15:33:32\", \"2020-12-16T06:03:54\", \"2020-12-17T03:03:53\", \"2020-12-18T19:35:56\", \"2020-12-20T09:50:08\", \"2020-12-21T06:35:28\", \"2020-12-22T06:10:31\", \"2020-12-24T08:22:34\", \"2020-12-25T06:02:37\", \"2020-12-27T07:22:38\", \"2020-12-29T16:07:13\", \"2021-01-03T01:09:57\", \"2021-01-03T19:31:11\", \"2021-01-04T08:27:53\", \"2021-01-04T17:43:31\", \"2021-01-05T05:11:08\", \"2021-01-05T18:57:52\", \"2021-01-06T08:23:50\", \"2021-01-07T05:26:20\", \"2021-01-09T05:40:45\", \"2021-01-09T11:37:15\", \"2021-01-09T18:16:26\", \"2021-01-11T19:01:35\", \"2021-01-12T14:29:10\", \"2021-01-12T18:24:02\", \"2021-01-13T09:03:51\", \"2021-01-15T04:10:02\", \"2021-01-15T16:18:38\", \"2021-01-16T02:23:31\", \"2021-01-16T02:24:05\", \"2021-01-21T03:49:20\", \"2021-01-21T16:50:24\", \"2021-02-02T08:09:49\", \"2021-02-02T13:51:44\", \"2021-02-03T11:41:18\", \"2021-02-03T12:25:27\", \"2021-02-05T17:30:19\", \"2021-02-06T12:21:01\", \"2021-02-09T09:56:49\", \"2021-02-09T17:31:05\", \"2021-02-10T11:01:28\", \"2021-02-12T05:23:44\", \"2021-02-12T16:09:56\", \"2021-02-13T09:24:42\", \"2021-02-13T09:56:05\", \"2021-02-14T14:57:52\", \"2021-02-15T03:15:07\", \"2021-02-18T02:40:09\", \"2021-02-19T13:17:09\", \"2021-02-20T11:37:06\", \"2021-02-21T14:49:32\", \"2021-02-21T16:10:28\", \"2021-02-22T12:17:13\", \"2021-02-23T05:21:07\", \"2021-02-23T11:24:21\", \"2021-02-25T04:40:24\", \"2021-02-26T03:09:43\", \"2021-02-26T03:26:44\", \"2021-02-27T11:34:03\", \"2021-03-01T19:41:43\", \"2021-03-01T20:18:18\", \"2021-03-02T07:06:27\", \"2021-03-02T11:30:14\", \"2021-03-02T12:51:37\", \"2021-03-02T19:18:03\", \"2021-03-03T10:34:07\", \"2021-03-04T06:33:18\", \"2021-03-04T10:29:20\", \"2021-03-04T12:00:34\", \"2021-03-04T14:43:29\", \"2021-03-04T18:30:16\", \"2021-03-07T06:22:07\", \"2021-03-07T13:26:53\", \"2021-03-07T22:12:55\", \"2021-03-08T10:31:47\", \"2021-03-08T14:04:19\", \"2021-03-08T19:19:56\", \"2021-03-09T01:55:12\", \"2021-03-11T05:29:45\", \"2021-03-11T08:16:26\", \"2021-03-12T12:06:10\", \"2021-03-15T07:48:31\", \"2021-03-16T07:55:34\", \"2021-03-16T10:05:25\", \"2021-03-17T06:11:15\", \"2021-03-18T10:38:33\", \"2021-03-18T12:48:04\", \"2021-03-18T18:44:23\", \"2021-03-19T13:10:23\", \"2021-03-20T05:50:27\", \"2021-03-20T10:18:48\", \"2021-03-21T04:23:48\", \"2021-03-21T11:34:20\", \"2021-03-23T04:13:41\", \"2021-03-24T05:56:57\", \"2021-03-24T10:39:37\", \"2021-03-24T11:59:38\", \"2021-03-25T09:56:03\", \"2021-03-25T14:16:46\", \"2021-03-25T15:34:43\", \"2021-03-25T17:30:36\", \"2021-03-26T09:32:58\", \"2021-03-28T09:48:06\", \"2021-03-29T08:21:09\", \"2021-03-29T11:45:43\", \"2021-03-30T05:32:57\", \"2021-03-30T08:16:45\", \"2021-03-30T08:53:13\", \"2021-03-31T06:34:37\", \"2021-04-01T03:44:32\", \"2021-04-02T13:23:37\", \"2021-04-05T07:39:42\", \"2021-04-05T15:53:59\", \"2021-04-08T03:16:40\", \"2021-04-09T15:42:51\", \"2021-04-11T04:36:59\", \"2021-04-12T10:50:24\", \"2021-04-13T17:35:36\", \"2021-04-13T19:08:22\"], \"xaxis\": \"x\", \"y\": [25268.0, 836.0, 110.0, 757.0, 3282.0, 6389.0, 1431.0, 75.0, 1465.0, 694.0, 132614.0, 6791.0, 921.0, 47774.0, 1632.0, 58833.0, 1211.0, 26862.0, 1602.0, 52159.0, 5345.0, 46206.0, 4649.0, 2294.0, 3444.0, 883.0, 20580.0, 2909.0, 572.0, 65.0, 293.0, 500.0, 206.0, 3363.0, 3170.0, 362.0, 2322.0, 385.0, 907.0, 1784.0, 51.0, 62.0, 105.0, 3957.0, 448.0, 0.0, 1907.0, 1592.0, 997515.0, 996481.0, 823893.0, 450292.0, 358318.0, 15807.0, 155878.0, 840577.0, 839940.0, 873099.0, 258901.0, 135522.0, 39470.0, 1771.0, 48122.0, 46858.0, 2232.0, 1082665.0, 2100.0, 126.0, 73.0, 94604.0, 92295.0, 89076.0, 99088.0, 100320.0, 89038.0, 79326.0, 63948.0, 89088.0, 98260.0, 111980.0, 108654.0, 401.0, 170687.0, 5309113.0, 1398.0, 80437.0, 2258543.0, 2194564.0, 2190045.0, 2057383.0, 1997577.0, 1635213.0, 184268.0, 153983.0, 135390.0, 102480.0, 64203.0, 1264826.0, 141222.0, 98979.0, 85063.0, 3728231.0, 376234.0, 1229567.0, 182835.0, 151129.0, 272878.0, 1794.0, 977966.0, 198472.0, 163161.0, 104707.0, 102279.0, 856012.0, 1378720.0, 29388.0, 12006.0, 12196.0, 10730.0, 368895.0, 367734.0, 250181.0, 359335.0, 357325.0, 246087.0, 355549.0, 287920.0, 287687.0, 23832.0, 266975.0, 260772.0, 191213.0, 8852.0, 119939.0, 4685.0, 167137.0, 82109.0, 81823.0, 127049.0, 124348.0, 166236.0, 85165.0, 40860.0, 35202.0, 73273.0, 73385.0, 73678.0, 73509.0, 105406.0, 104646.0, 102497.0, 104198.0, 18787.0, 2258.0, 95940.0, 3629.0, 3791.0, 171131.0, 141004.0, 41723.0, 40769.0, 23183.0, 12563.0, 20790.0, 3936.0, 186963.0, 98118.0, 2999.0, 81319.0, 56250.0, 41319.0, 38723.0, 3978.0, 7158.0, 7033.0, 83982.0, 1372.0, 5103.0, 2760.0, 2021.0, 7475.0, 56991.0, 3199.0, 17750.0, 10330.0, 620583.0, 42804.0, 9924.0, 8569.0, 6013.0, 5544.0, 6749.0, 47638.0, 58498.0, 79924.0, 11036.0, 8498.0, 7369.0, 7961.0, 9879.0, 9655.0, 185920.0, 2418.0, 3655.0, 13916.0, 5304.0, 251.0, 61612.0, 128626.0, 4374.0, 120877.0, 113777.0, 47809.0, 10495.0, 6980.0, 47869.0, 2636.0, 3577.0, 47799.0, 17079.0, 13166.0, 11182.0, 5678.0, 3394.0, 169686.0, 19777.0, 12296.0, 37691.0, 7330.0, 12488.0, 108684.0, 103316.0, 109828.0, 1575.0, 1880.0, 112356.0, 1533.0, 56185.0, 107380.0, 65308.0, 69663.0, 18.0, 17970.0, 44234.0, 101839.0, 70417.0, 781.0, 51239.0, 21554.0, 6682.0, 14919.0, 410778.0, 430967.0, 10907.0, 313027.0, 12765.0, 43519.0, 43054.0, 47603.0, 22283.0, 10343.0, 10028.0, 9616.0, 7788.0, 1639.0, 3716.0, 162654.0, 9325.0, 1838.0, 1598.0, 8766.0, 10961.0, 2310.0, 19641.0, 178471.0, 50219.0, 24003.0, 1181.0, 55719.0, 34744.0, 43782.0, 73668.0, 99560.0, 123294.0, 173008.0, 23296.0, 25833.0, 26798.0, 55156.0, 25297.0, 63772.0, 16752.0, 72953.0, 8664826.0, 69951.0, 443479.0, 23103.0, 193549.0, 171613.0, 148105.0, 51431.0, 156534.0, 142579.0, 7958828.0, 23605.0, 7662699.0, 18581.0, 18486.0, 27820.0, 2996.0, 2527892.0, 6117398.0, 7747.0, 1.0, 2235955.0, 3466.0, 110861.0, 5499672.0, 83498.0, 131560.0, 1635229.0, 1574207.0, 85152.0, 69662.0, 5033041.0, 4871677.0, 57301.0, 958886.0, 5815.0, 77680.0, 66994.0, 728669.0, 260038.0, 551821.0, 129247.0, 128567.0, 491712.0, 153857.0, 75974.0, 37256.0, 187964.0, 15737.0, 158832.0, 109165.0, 36830.0, 16705.0, 10983.0, 797.0, 57684.0, 453936.0, 3269125.0, 35234.0, 11837.0, 69856.0, 159288.0, 99303.0, 699148.0, 32498.0, 5453.0, 17980.0, 23324.0, 56676.0, 8319.0, 7771.0, 54397.0, 77787.0, 64090.0, 3066.0, 65100.0, 34057.0, 67932.0, 121563.0, 28116.0, 191346.0, 6533.0, 10541.0, 84286.0, 1802581.0, 51086.0, 9947.0, 80314.0, 106088.0, 9178.0, 787.0, 19782.0, 24266.0, 1316290.0, 105674.0, 232270.0, 173503.0, 5531.0, 135020.0, 81425.0, 129268.0, 80802.0, 260504.0, 377715.0], \"yaxis\": \"y\"}],                        {\"height\": 700, \"legend\": {\"tracegroupgap\": 0}, \"template\": {\"data\": {\"bar\": [{\"error_x\": {\"color\": \"#2a3f5f\"}, \"error_y\": {\"color\": \"#2a3f5f\"}, \"marker\": {\"line\": {\"color\": \"#E5ECF6\", \"width\": 0.5}}, \"type\": \"bar\"}], \"barpolar\": [{\"marker\": {\"line\": {\"color\": \"#E5ECF6\", \"width\": 0.5}}, \"type\": \"barpolar\"}], \"carpet\": [{\"aaxis\": {\"endlinecolor\": \"#2a3f5f\", \"gridcolor\": \"white\", \"linecolor\": \"white\", \"minorgridcolor\": \"white\", \"startlinecolor\": \"#2a3f5f\"}, \"baxis\": {\"endlinecolor\": \"#2a3f5f\", \"gridcolor\": \"white\", \"linecolor\": \"white\", \"minorgridcolor\": \"white\", \"startlinecolor\": \"#2a3f5f\"}, \"type\": \"carpet\"}], \"choropleth\": [{\"colorbar\": {\"outlinewidth\": 0, \"ticks\": \"\"}, \"type\": \"choropleth\"}], \"contour\": [{\"colorbar\": {\"outlinewidth\": 0, \"ticks\": \"\"}, \"colorscale\": [[0.0, \"#0d0887\"], [0.1111111111111111, \"#46039f\"], [0.2222222222222222, \"#7201a8\"], [0.3333333333333333, \"#9c179e\"], [0.4444444444444444, \"#bd3786\"], [0.5555555555555556, \"#d8576b\"], [0.6666666666666666, \"#ed7953\"], [0.7777777777777778, \"#fb9f3a\"], [0.8888888888888888, \"#fdca26\"], [1.0, \"#f0f921\"]], \"type\": \"contour\"}], \"contourcarpet\": [{\"colorbar\": {\"outlinewidth\": 0, \"ticks\": \"\"}, \"type\": \"contourcarpet\"}], \"heatmap\": [{\"colorbar\": {\"outlinewidth\": 0, \"ticks\": \"\"}, \"colorscale\": [[0.0, \"#0d0887\"], [0.1111111111111111, \"#46039f\"], [0.2222222222222222, \"#7201a8\"], [0.3333333333333333, \"#9c179e\"], [0.4444444444444444, \"#bd3786\"], [0.5555555555555556, \"#d8576b\"], [0.6666666666666666, \"#ed7953\"], [0.7777777777777778, \"#fb9f3a\"], [0.8888888888888888, \"#fdca26\"], [1.0, \"#f0f921\"]], \"type\": \"heatmap\"}], \"heatmapgl\": [{\"colorbar\": {\"outlinewidth\": 0, \"ticks\": \"\"}, \"colorscale\": [[0.0, \"#0d0887\"], [0.1111111111111111, \"#46039f\"], [0.2222222222222222, \"#7201a8\"], [0.3333333333333333, \"#9c179e\"], [0.4444444444444444, \"#bd3786\"], [0.5555555555555556, \"#d8576b\"], [0.6666666666666666, \"#ed7953\"], [0.7777777777777778, \"#fb9f3a\"], [0.8888888888888888, \"#fdca26\"], [1.0, \"#f0f921\"]], \"type\": \"heatmapgl\"}], \"histogram\": [{\"marker\": {\"colorbar\": {\"outlinewidth\": 0, \"ticks\": \"\"}}, \"type\": \"histogram\"}], \"histogram2d\": [{\"colorbar\": {\"outlinewidth\": 0, \"ticks\": \"\"}, \"colorscale\": [[0.0, \"#0d0887\"], [0.1111111111111111, \"#46039f\"], [0.2222222222222222, \"#7201a8\"], [0.3333333333333333, \"#9c179e\"], [0.4444444444444444, \"#bd3786\"], [0.5555555555555556, \"#d8576b\"], [0.6666666666666666, \"#ed7953\"], [0.7777777777777778, \"#fb9f3a\"], [0.8888888888888888, \"#fdca26\"], [1.0, \"#f0f921\"]], \"type\": \"histogram2d\"}], \"histogram2dcontour\": [{\"colorbar\": {\"outlinewidth\": 0, \"ticks\": \"\"}, \"colorscale\": [[0.0, \"#0d0887\"], [0.1111111111111111, \"#46039f\"], [0.2222222222222222, \"#7201a8\"], [0.3333333333333333, \"#9c179e\"], [0.4444444444444444, \"#bd3786\"], [0.5555555555555556, \"#d8576b\"], [0.6666666666666666, \"#ed7953\"], [0.7777777777777778, \"#fb9f3a\"], [0.8888888888888888, \"#fdca26\"], [1.0, \"#f0f921\"]], \"type\": \"histogram2dcontour\"}], \"mesh3d\": [{\"colorbar\": {\"outlinewidth\": 0, \"ticks\": \"\"}, \"type\": \"mesh3d\"}], \"parcoords\": [{\"line\": {\"colorbar\": {\"outlinewidth\": 0, \"ticks\": \"\"}}, \"type\": \"parcoords\"}], \"pie\": [{\"automargin\": true, \"type\": \"pie\"}], \"scatter\": [{\"marker\": {\"colorbar\": {\"outlinewidth\": 0, \"ticks\": \"\"}}, \"type\": \"scatter\"}], \"scatter3d\": [{\"line\": {\"colorbar\": {\"outlinewidth\": 0, \"ticks\": \"\"}}, \"marker\": {\"colorbar\": {\"outlinewidth\": 0, \"ticks\": \"\"}}, \"type\": \"scatter3d\"}], \"scattercarpet\": [{\"marker\": {\"colorbar\": {\"outlinewidth\": 0, \"ticks\": \"\"}}, \"type\": \"scattercarpet\"}], \"scattergeo\": [{\"marker\": {\"colorbar\": {\"outlinewidth\": 0, \"ticks\": \"\"}}, \"type\": \"scattergeo\"}], \"scattergl\": [{\"marker\": {\"colorbar\": {\"outlinewidth\": 0, \"ticks\": \"\"}}, \"type\": \"scattergl\"}], \"scattermapbox\": [{\"marker\": {\"colorbar\": {\"outlinewidth\": 0, \"ticks\": \"\"}}, \"type\": \"scattermapbox\"}], \"scatterpolar\": [{\"marker\": {\"colorbar\": {\"outlinewidth\": 0, \"ticks\": \"\"}}, \"type\": \"scatterpolar\"}], \"scatterpolargl\": [{\"marker\": {\"colorbar\": {\"outlinewidth\": 0, \"ticks\": \"\"}}, \"type\": \"scatterpolargl\"}], \"scatterternary\": [{\"marker\": {\"colorbar\": {\"outlinewidth\": 0, \"ticks\": \"\"}}, \"type\": \"scatterternary\"}], \"surface\": [{\"colorbar\": {\"outlinewidth\": 0, \"ticks\": \"\"}, \"colorscale\": [[0.0, \"#0d0887\"], [0.1111111111111111, \"#46039f\"], [0.2222222222222222, \"#7201a8\"], [0.3333333333333333, \"#9c179e\"], [0.4444444444444444, \"#bd3786\"], [0.5555555555555556, \"#d8576b\"], [0.6666666666666666, \"#ed7953\"], [0.7777777777777778, \"#fb9f3a\"], [0.8888888888888888, \"#fdca26\"], [1.0, \"#f0f921\"]], \"type\": \"surface\"}], \"table\": [{\"cells\": {\"fill\": {\"color\": \"#EBF0F8\"}, \"line\": {\"color\": \"white\"}}, \"header\": {\"fill\": {\"color\": \"#C8D4E3\"}, \"line\": {\"color\": \"white\"}}, \"type\": \"table\"}]}, \"layout\": {\"annotationdefaults\": {\"arrowcolor\": \"#2a3f5f\", \"arrowhead\": 0, \"arrowwidth\": 1}, \"coloraxis\": {\"colorbar\": {\"outlinewidth\": 0, \"ticks\": \"\"}}, \"colorscale\": {\"diverging\": [[0, \"#8e0152\"], [0.1, \"#c51b7d\"], [0.2, \"#de77ae\"], [0.3, \"#f1b6da\"], [0.4, \"#fde0ef\"], [0.5, \"#f7f7f7\"], [0.6, \"#e6f5d0\"], [0.7, \"#b8e186\"], [0.8, \"#7fbc41\"], [0.9, \"#4d9221\"], [1, \"#276419\"]], \"sequential\": [[0.0, \"#0d0887\"], [0.1111111111111111, \"#46039f\"], [0.2222222222222222, \"#7201a8\"], [0.3333333333333333, \"#9c179e\"], [0.4444444444444444, \"#bd3786\"], [0.5555555555555556, \"#d8576b\"], [0.6666666666666666, \"#ed7953\"], [0.7777777777777778, \"#fb9f3a\"], [0.8888888888888888, \"#fdca26\"], [1.0, \"#f0f921\"]], \"sequentialminus\": [[0.0, \"#0d0887\"], [0.1111111111111111, \"#46039f\"], [0.2222222222222222, \"#7201a8\"], [0.3333333333333333, \"#9c179e\"], [0.4444444444444444, \"#bd3786\"], [0.5555555555555556, \"#d8576b\"], [0.6666666666666666, \"#ed7953\"], [0.7777777777777778, \"#fb9f3a\"], [0.8888888888888888, \"#fdca26\"], [1.0, \"#f0f921\"]]}, \"colorway\": [\"#636efa\", \"#EF553B\", \"#00cc96\", \"#ab63fa\", \"#FFA15A\", \"#19d3f3\", \"#FF6692\", \"#B6E880\", \"#FF97FF\", \"#FECB52\"], \"font\": {\"color\": \"#2a3f5f\"}, \"geo\": {\"bgcolor\": \"white\", \"lakecolor\": \"white\", \"landcolor\": \"#E5ECF6\", \"showlakes\": true, \"showland\": true, \"subunitcolor\": \"white\"}, \"hoverlabel\": {\"align\": \"left\"}, \"hovermode\": \"closest\", \"mapbox\": {\"style\": \"light\"}, \"paper_bgcolor\": \"white\", \"plot_bgcolor\": \"#E5ECF6\", \"polar\": {\"angularaxis\": {\"gridcolor\": \"white\", \"linecolor\": \"white\", \"ticks\": \"\"}, \"bgcolor\": \"#E5ECF6\", \"radialaxis\": {\"gridcolor\": \"white\", \"linecolor\": \"white\", \"ticks\": \"\"}}, \"scene\": {\"xaxis\": {\"backgroundcolor\": \"#E5ECF6\", \"gridcolor\": \"white\", \"gridwidth\": 2, \"linecolor\": \"white\", \"showbackground\": true, \"ticks\": \"\", \"zerolinecolor\": \"white\"}, \"yaxis\": {\"backgroundcolor\": \"#E5ECF6\", \"gridcolor\": \"white\", \"gridwidth\": 2, \"linecolor\": \"white\", \"showbackground\": true, \"ticks\": \"\", \"zerolinecolor\": \"white\"}, \"zaxis\": {\"backgroundcolor\": \"#E5ECF6\", \"gridcolor\": \"white\", \"gridwidth\": 2, \"linecolor\": \"white\", \"showbackground\": true, \"ticks\": \"\", \"zerolinecolor\": \"white\"}}, \"shapedefaults\": {\"line\": {\"color\": \"#2a3f5f\"}}, \"ternary\": {\"aaxis\": {\"gridcolor\": \"white\", \"linecolor\": \"white\", \"ticks\": \"\"}, \"baxis\": {\"gridcolor\": \"white\", \"linecolor\": \"white\", \"ticks\": \"\"}, \"bgcolor\": \"#E5ECF6\", \"caxis\": {\"gridcolor\": \"white\", \"linecolor\": \"white\", \"ticks\": \"\"}}, \"title\": {\"x\": 0.05}, \"xaxis\": {\"automargin\": true, \"gridcolor\": \"white\", \"linecolor\": \"white\", \"ticks\": \"\", \"title\": {\"standoff\": 15}, \"zerolinecolor\": \"white\", \"zerolinewidth\": 2}, \"yaxis\": {\"automargin\": true, \"gridcolor\": \"white\", \"linecolor\": \"white\", \"ticks\": \"\", \"title\": {\"standoff\": 15}, \"zerolinecolor\": \"white\", \"zerolinewidth\": 2}}}, \"title\": {\"text\": \"Response Times to tweets made by other users\"}, \"xaxis\": {\"anchor\": \"y\", \"domain\": [0.0, 1.0], \"title\": {\"text\": \"Created_At\"}}, \"yaxis\": {\"anchor\": \"x\", \"domain\": [0.0, 1.0], \"title\": {\"text\": \"Response_Time\"}}},                        {\"responsive\": true}                    ).then(function(){\n",
       "                            \n",
       "var gd = document.getElementById('314f1316-aefe-49fe-a324-f0ddc3a80d95');\n",
       "var x = new MutationObserver(function (mutations, observer) {{\n",
       "        var display = window.getComputedStyle(gd).display;\n",
       "        if (!display || display === 'none') {{\n",
       "            console.log([gd, 'removed!']);\n",
       "            Plotly.purge(gd);\n",
       "            observer.disconnect();\n",
       "        }}\n",
       "}});\n",
       "\n",
       "// Listen for the removal of the full notebook cells\n",
       "var notebookContainer = gd.closest('#notebook-container');\n",
       "if (notebookContainer) {{\n",
       "    x.observe(notebookContainer, {childList: true});\n",
       "}}\n",
       "\n",
       "// Listen for the clearing of the current output cell\n",
       "var outputEl = gd.closest('.output');\n",
       "if (outputEl) {{\n",
       "    x.observe(outputEl, {childList: true});\n",
       "}}\n",
       "\n",
       "                        })                };                });            </script>        </div>"
      ]
     },
     "metadata": {},
     "output_type": "display_data"
    }
   ],
   "source": [
    "import plotly.express as plt\n",
    "\n",
    "response_times_df = pd.DataFrame({'Created_At': list(response_times_dict.keys()),\n",
    "                                  'Response_Time': list(response_times_dict.values())})\n",
    "response_times_df.sort_values(['Created_At'], inplace = True)\n",
    "fig = plt.line(response_times_df,\n",
    "               x = 'Created_At',\n",
    "               y = 'Response_Time',\n",
    "               title = 'Response Times to tweets made by other users',\n",
    "               height = 700)\n",
    "fig.show()"
   ]
  },
  {
   "cell_type": "code",
   "execution_count": 30,
   "id": "66c19b10",
   "metadata": {},
   "outputs": [
    {
     "name": "stdout",
     "output_type": "stream",
     "text": [
      "1\n",
      "@prayagraj_pol @PoliceRajasthan @agrapolice @bareillypolice @DelhiPolice @jaipur_police @adgzonevaranasi @police_haryana @PoliceKarnal \n",
      "यह फेक id लगातार ब्राह्मण, मीना, सैनी, जाट, सिखों के बीच जातीय वैमनस्यता फैलाकर दंगे कराना चाहता है।\n",
      "कृपया संज्ञान ले।\n",
      "@HinduITCell @PKNAREDA25 https://t.co/x3IAifz5l6\n",
      "\n",
      "2\n",
      "@DelhiPolice @LtGovDelhi @DelhiPolice4 @CPDelhi @DCPCentralDelhi @narendramodi @PMOIndia mentally harrassment by shopkeeper at kashmere gate https://t.co/rQYrVdyUBK\n",
      "\n",
      "3\n",
      "@DcpNorthDelhi dear sir car side mirror being stolen of my mercedes car outside of my residence no police barricading is there at our locality during night no patrolling please look into this \n",
      "5334 jawahar nagar delhi 110007\n",
      "\n",
      "4\n",
      "@DCPCentralDelhi यह घटना मोरी गेट गोल चक्कर के पास खोया मंडी पुलिस चौकी मंदिर वाली पार्किंग की है। @DCPCentralDelhi\n",
      "\n",
      "5\n",
      "@DcpNorthDelhi Sir From last three  months  janta bazar is being set up regularly in sec15 block B &amp; C without any permission . I have already complained about it several times but still the problem persists.\n",
      "No one wear Mask and social distancing in bazar .\n",
      "\n",
      "6\n",
      "अनाज वितरण प्रणाली व्यवस्था और #कोरोना_काल के समय #SocialDistancing का कोई आता पता नही। @CPDelhi @fooddeptgoi @ArvindKejriwal @Sanjeev_aap @DcpNorthDelhi #CoronavirusIndia https://t.co/CHTuELwVfo\n",
      "\n",
      "7\n",
      "दिल्ली पुलिस उत्तरी ज़िला ने आज एक नए कम्यूनिटी पुलिसिंग अभियान \"संस्कारशाला\" की शुरुआत इस उद्देश्य से की है कि स्लम और पुनर्वास कॉलोनी में रहने वाले युवाओं एवं किशोरों को महिलाओं के साथ किस तरह व्यवहार करना चाहिए के बारे में जागरूक किया जा सके\n",
      "@CPDelhi\n",
      "@DelhiPolice\n",
      "1/2 https://t.co/OVr9Tyiu6I\n",
      "\n",
      "8\n",
      "@DcpNorthDelhi @CPDelhi no social distance maintained in Sunday Patri Bazar #azadmarket under P.S. B.H.RAO. give a surprise visit and see.\n",
      "\n",
      "9\n",
      "@DcpNorthDelhi @CPDelhi no social distance maintained in Sunday Patri Bazar #azadmarket under P.S. B.H.RAO. give a surprise visit and see.\n",
      "\n",
      "10\n",
      "@dtptraffic क्यों तमाशा बना रखा हैं जनता का\n",
      "सर सारी दिल्ली -6 मै आज सब पटरी बाजार लगा ओर किसी भी पुलिस अधिकारी ने किसी को कुछ नही कहा, ओर तो और मिठाई पुल पर दो दो पुलिस चौकी होने के बाबजूद क़ानून की धज्जिया उड़ाई जाती हे जिस मै पुलिस का भी साथ होता है.\n",
      "\n",
      "11\n",
      "@DcpNorthDelhi @DelhiPolice @CPDelhi Aab tak kuch nahi hua https://t.co/i8qMetI8ky\n",
      "\n",
      "12\n",
      "आज सुबह 5 बजे जब मैं कमला नेहरू रिज (उत्तरी क्षेत्र) दिल्ली पर दौड़ लगाने के लिए गया तो मैंने देखा एक बन्दर तारो मे करंट के कारण मर चुका था...\n",
      " जानवर हो या व्यक्ति अपने परिवार के लिए सब अहमियत रखता है...\n",
      " अतः प्रशासन और दिल्ली सरकार से अनुरोध है उचित कार्रवाई करे! ॐ शांति 🙏 https://t.co/yn7tdkJWIf\n",
      "\n",
      "13\n",
      "@DcpNorthDelhi @DelhiPolice @CPDelhi मुकुंद विहार मुकंद पुर दिल्ली में 4-5 दिनों से काफी जड़ा चोरी हो रहा है ,लोगो के घरों से फोन को रात के अंधेरे में चोरी किया जा रहा है , दिल्ली पुलिस  इस समस्या को  नजरंदाज न करे। और विधायक जी   आप भी इस मुद्दे को ध्यान दे।  गरीब मजदूर लोग जैसे तैसे, तो अपना गुजर बसर कर रहे है।\n",
      "\n",
      "14\n",
      "@DCPNewDelhi \n",
      "I have Empaly axis bank burari delhi mujhe releaving letter chahiye nahi de rahe hai prasan torcher kar rahe plz help me two child mai khanha jaunga mai prasan mujhe kr rahe torcher plz khanhi ur job kar sake deepak kumar 193922 axis bank delhi\n",
      "\n",
      "15\n",
      "Illegal encroachments are hicking in kamla nagar - North Delhi #SocialDistancing #COVID19 \n",
      "@PMOIndia\n",
      "@HMOIndia\n",
      "@LtGovDelhi\n",
      "@CMODelhi\n",
      "@CPDelhi\n",
      "@DelhiPolice\n",
      "@DcpNorthDelhi\n",
      "@DM_CentralDelhi https://t.co/lwhAzUsOKb\n",
      "\n",
      "16\n",
      "@DCP_CCC_Delhi @DcpNorthDelhi sir please enact . Received same call today , with a different number. Lady was asking for my credit card number and other details\n",
      "Number attached in screenshot. https://t.co/nA082oMwfn\n",
      "\n",
      "17\n",
      "It has been two days since a car was stolen in #Delhi and still no trace by @CPDelhi everything is coming on camera and has also a Fastag on car, then what are the benefits of technology? @DcpNorthDelhi  #यह_दिल्ली_है @ArvindKejriwal https://t.co/CsK4PJH5Ug\n",
      "\n",
      "18\n",
      "@Vicky13616709 @DcpNorthDelhi @CPDelhi @DcpNorthDelhi for necessary action\n",
      "\n",
      "19\n",
      "@Faizan2012Jks @DcpNorthDelhi @DCPCentralDelhi for necessary action\n",
      "\n",
      "20\n",
      "@DcpNorthDelhi   Sir need your help here..\n",
      "Details:\n",
      "FIR Number: ND-LG-000035\n",
      "Incident Date &amp; Time: 5th Feb 2020, 5:10 am\n",
      "Police Station: Lahori Gate, Delhi\n",
      "#Mobiletheft  @DelhiPolice\n",
      "\n",
      "21\n",
      "@LtGovDelhi @DcpNorthDelhi @CPDelhi @PMOIndia  @AmitShah\n",
      " An identified notorious boy with 3, committed theft of a precious water-motor in broad daylight in front of its owner on 15.08.20 resulted an FIR No. ND-BU-547/20 but nothing has so far been done. 8178082002.\n",
      "\n",
      "22\n",
      "दबंगो ने किनारी बाजार व्यापारी की दुकान पर किया पेशाब, व्यापारी के विरोध करने पर की मारपीट और व्यापारी के घर पहुँचकर की गालीगलौच व लहराये हथियार, पुलिस की उदासीनता के कारण खुला घूम रहे अपराधी, व्यापारी दहशत मे @DcpNorthDelhi @DelhiPolice4 @CPDelhi\n",
      "\n",
      "23\n",
      "@DcpNorthDelhi @CPDelhi @DelhiPolice Encroachment in sadar bazar rui mandi area how customers will maintain social distancing when no way to walk please help https://t.co/1qzfaKxCEi\n",
      "\n",
      "24\n",
      "@aashish8125 @dtptraffic @ArvindKejriwal @AmitShah @CPCB_OFFICIAL @cp_delhi @DcpNorthDelhi for necessary action\n",
      "\n",
      "25\n",
      "@dmeastdelhi @AmitShahOffice @AmitShah @CPDelhi @DcpNorthDelhi @ArvindKejriwal @MohanJha89 @skc_1986 \n",
      "\n",
      "इस सेलून के खिलाफ कार्यवाही करे जल्द से जल्द इस सेलून को बंद कराये ताकि लोगो की जान से खेलने का जो प्रयास किया जा रहा है वो बन्द हो सके https://t.co/Ul2cI9of3j\n",
      "\n",
      "26\n",
      "@DcpNorthDelhi  @DCPCentralDelhi  @DCPSEastDelhi  @DCPNEastDelhi  @CMODelhi @sagarratnaCA \n",
      "https://t.co/vEXamdGVSC\n",
      "sir ye FACEBOOK pr SAGAR RATNA k naam se fake id bna k 1 k saath 2 free thaali k naam pr 200 rs loot rhe h ye inka number h 081019 92606 naam rahul patel bta rha h.\n",
      "\n",
      "27\n",
      "कल रात से दर दर भटक रही है वैशाली, पार्किंग को लेकर लड़कियों को सरे आम पिटा @DelhiPolice की 112 नंबर पर भी कोई सुनवाई नहीं, चौकी पर कल से बैठा कर रखा है अब उल्टा पुलिस के दबाव में केस दर्ज कर रहे है वैशाली पर, लड़के फरार है #WazirabadPoliceStation @DcpNorthDelhi @LtGovDelhi https://t.co/hLVkZxcymK\n",
      "\n",
      "28\n",
      "I request you to @DcpNorthDelhi please visit or give order to your constables please visit in hanuman vatika park shastri nagar delhi 52 Gambling drinking this type of mis activities done for locals in this park lots of time They are abusing for local people's @drharshvardhan\n",
      "\n",
      "29\n",
      "@DcpNorthDelhi @CPDelhi @LtGovDelhi @DelhiPolice Sir please Roshan ara road in subzi mandi thana  3year se car bike stolen many fir but no response koi bhi personal pain nahi lena chahta last time 100 no car ko ACP PCR ko bol kar petroling hui thi ap bhi 1 bar gaur Karen  9811373344\n",
      "\n",
      "30\n",
      "दिल्ली थाना सब्जी मंडी घंटा घर सब्जी मंडी में धड़ल्ले से बोम पटके खुलेयांम बेचे जा रहे हैं थाना SHO को भी इस बात की सूचना दीथी उसके बाद भी सरकार के नियमो की धज्जियां उड़ाई जा रही है ये सब प्रसासन की मिली भगत से बेचे जा रहे हैं @DcpNorthDelhi @CPDelhi @ArvindKejriwal  @LtGovDelhi https://t.co/22tjveRfq1\n",
      "\n"
     ]
    }
   ],
   "source": [
    "subsample = original_tweets[150: 180]\n",
    "\n",
    "count = 1\n",
    "for t in subsample:\n",
    "    print(count)\n",
    "    count += 1\n",
    "    print(t.full_text)\n",
    "    print()"
   ]
  },
  {
   "cell_type": "code",
   "execution_count": 48,
   "id": "3074cc1d",
   "metadata": {
    "scrolled": true
   },
   "outputs": [
    {
     "data": {
      "text/html": [
       "<div>\n",
       "<style scoped>\n",
       "    .dataframe tbody tr th:only-of-type {\n",
       "        vertical-align: middle;\n",
       "    }\n",
       "\n",
       "    .dataframe tbody tr th {\n",
       "        vertical-align: top;\n",
       "    }\n",
       "\n",
       "    .dataframe thead th {\n",
       "        text-align: right;\n",
       "    }\n",
       "</style>\n",
       "<table border=\"1\" class=\"dataframe\">\n",
       "  <thead>\n",
       "    <tr style=\"text-align: right;\">\n",
       "      <th></th>\n",
       "      <th>Text</th>\n",
       "      <th>Label</th>\n",
       "    </tr>\n",
       "    <tr>\n",
       "      <th>Id</th>\n",
       "      <th></th>\n",
       "      <th></th>\n",
       "    </tr>\n",
       "  </thead>\n",
       "  <tbody>\n",
       "    <tr>\n",
       "      <th>1332328706732244993</th>\n",
       "      <td>@prayagraj_pol @PoliceRajasthan @agrapolice @b...</td>\n",
       "      <td>report</td>\n",
       "    </tr>\n",
       "    <tr>\n",
       "      <th>1331931521742114819</th>\n",
       "      <td>@DelhiPolice @LtGovDelhi @DelhiPolice4 @CPDelh...</td>\n",
       "      <td>report</td>\n",
       "    </tr>\n",
       "    <tr>\n",
       "      <th>1332323643955658754</th>\n",
       "      <td>@DcpNorthDelhi dear sir car side mirror being ...</td>\n",
       "      <td>request</td>\n",
       "    </tr>\n",
       "    <tr>\n",
       "      <th>1331937285068058624</th>\n",
       "      <td>@DCPCentralDelhi यह घटना मोरी गेट गोल चक्कर के...</td>\n",
       "      <td>report</td>\n",
       "    </tr>\n",
       "    <tr>\n",
       "      <th>1331659797360361472</th>\n",
       "      <td>@DcpNorthDelhi Sir From last three  months  ja...</td>\n",
       "      <td>accountability</td>\n",
       "    </tr>\n",
       "    <tr>\n",
       "      <th>1331446471669936128</th>\n",
       "      <td>अनाज वितरण प्रणाली व्यवस्था और #कोरोना_काल के ...</td>\n",
       "      <td>accountability</td>\n",
       "    </tr>\n",
       "    <tr>\n",
       "      <th>1331211552855212032</th>\n",
       "      <td>दिल्ली पुलिस उत्तरी ज़िला ने आज एक नए कम्यूनिट...</td>\n",
       "      <td>appreciation</td>\n",
       "    </tr>\n",
       "    <tr>\n",
       "      <th>1330456822336155650</th>\n",
       "      <td>@DcpNorthDelhi @CPDelhi no social distance mai...</td>\n",
       "      <td>report</td>\n",
       "    </tr>\n",
       "    <tr>\n",
       "      <th>1330456822336155650</th>\n",
       "      <td>@DcpNorthDelhi @CPDelhi no social distance mai...</td>\n",
       "      <td>report</td>\n",
       "    </tr>\n",
       "    <tr>\n",
       "      <th>1330582374342565889</th>\n",
       "      <td>@dtptraffic क्यों तमाशा बना रखा हैं जनता का\\nस...</td>\n",
       "      <td>accountability</td>\n",
       "    </tr>\n",
       "    <tr>\n",
       "      <th>1330538471602089985</th>\n",
       "      <td>@DcpNorthDelhi @DelhiPolice @CPDelhi Aab tak k...</td>\n",
       "      <td>accountability</td>\n",
       "    </tr>\n",
       "    <tr>\n",
       "      <th>1330024230528847872</th>\n",
       "      <td>आज सुबह 5 बजे जब मैं कमला नेहरू रिज (उत्तरी क्...</td>\n",
       "      <td>request</td>\n",
       "    </tr>\n",
       "    <tr>\n",
       "      <th>1330182948696559616</th>\n",
       "      <td>@DcpNorthDelhi @DelhiPolice @CPDelhi मुकुंद वि...</td>\n",
       "      <td>request</td>\n",
       "    </tr>\n",
       "    <tr>\n",
       "      <th>1329728857159524361</th>\n",
       "      <td>@DCPNewDelhi \\nI have Empaly axis bank burari ...</td>\n",
       "      <td>request</td>\n",
       "    </tr>\n",
       "    <tr>\n",
       "      <th>1330167530103721985</th>\n",
       "      <td>Illegal encroachments are hicking in kamla nag...</td>\n",
       "      <td>report</td>\n",
       "    </tr>\n",
       "    <tr>\n",
       "      <th>1329384771256950786</th>\n",
       "      <td>@DCP_CCC_Delhi @DcpNorthDelhi sir please enact...</td>\n",
       "      <td>report</td>\n",
       "    </tr>\n",
       "    <tr>\n",
       "      <th>1329361677985353728</th>\n",
       "      <td>It has been two days since a car was stolen in...</td>\n",
       "      <td>accountability</td>\n",
       "    </tr>\n",
       "    <tr>\n",
       "      <th>1329795532491870210</th>\n",
       "      <td>@Vicky13616709 @DcpNorthDelhi @CPDelhi @DcpNor...</td>\n",
       "      <td>other</td>\n",
       "    </tr>\n",
       "    <tr>\n",
       "      <th>1329794971352719361</th>\n",
       "      <td>@Faizan2012Jks @DcpNorthDelhi @DCPCentralDelhi...</td>\n",
       "      <td>other</td>\n",
       "    </tr>\n",
       "    <tr>\n",
       "      <th>1307207897160380416</th>\n",
       "      <td>@DcpNorthDelhi   Sir need your help here..\\nDe...</td>\n",
       "      <td>report</td>\n",
       "    </tr>\n",
       "    <tr>\n",
       "      <th>1328745540129996800</th>\n",
       "      <td>@LtGovDelhi @DcpNorthDelhi @CPDelhi @PMOIndia ...</td>\n",
       "      <td>accountability</td>\n",
       "    </tr>\n",
       "    <tr>\n",
       "      <th>1329320422710513664</th>\n",
       "      <td>दबंगो ने किनारी बाजार व्यापारी की दुकान पर किय...</td>\n",
       "      <td>accountability</td>\n",
       "    </tr>\n",
       "    <tr>\n",
       "      <th>1329243144219631619</th>\n",
       "      <td>@DcpNorthDelhi @CPDelhi @DelhiPolice Encroachm...</td>\n",
       "      <td>accountability</td>\n",
       "    </tr>\n",
       "    <tr>\n",
       "      <th>1329114964490035201</th>\n",
       "      <td>@aashish8125 @dtptraffic @ArvindKejriwal @Amit...</td>\n",
       "      <td>other</td>\n",
       "    </tr>\n",
       "    <tr>\n",
       "      <th>1329017880415928321</th>\n",
       "      <td>@dmeastdelhi @AmitShahOffice @AmitShah @CPDelh...</td>\n",
       "      <td>request</td>\n",
       "    </tr>\n",
       "    <tr>\n",
       "      <th>1328966358328111107</th>\n",
       "      <td>@DcpNorthDelhi  @DCPCentralDelhi  @DCPSEastDel...</td>\n",
       "      <td>report</td>\n",
       "    </tr>\n",
       "    <tr>\n",
       "      <th>1328684926057603074</th>\n",
       "      <td>कल रात से दर दर भटक रही है वैशाली, पार्किंग को...</td>\n",
       "      <td>accountability</td>\n",
       "    </tr>\n",
       "    <tr>\n",
       "      <th>1328318463446720513</th>\n",
       "      <td>I request you to @DcpNorthDelhi please visit o...</td>\n",
       "      <td>request</td>\n",
       "    </tr>\n",
       "    <tr>\n",
       "      <th>1327895274212052992</th>\n",
       "      <td>@DcpNorthDelhi @CPDelhi @LtGovDelhi @DelhiPoli...</td>\n",
       "      <td>accountability</td>\n",
       "    </tr>\n",
       "    <tr>\n",
       "      <th>1327581769831387137</th>\n",
       "      <td>दिल्ली थाना सब्जी मंडी घंटा घर सब्जी मंडी में ...</td>\n",
       "      <td>accountability</td>\n",
       "    </tr>\n",
       "  </tbody>\n",
       "</table>\n",
       "</div>"
      ],
      "text/plain": [
       "                                                                  Text  \\\n",
       "Id                                                                       \n",
       "1332328706732244993  @prayagraj_pol @PoliceRajasthan @agrapolice @b...   \n",
       "1331931521742114819  @DelhiPolice @LtGovDelhi @DelhiPolice4 @CPDelh...   \n",
       "1332323643955658754  @DcpNorthDelhi dear sir car side mirror being ...   \n",
       "1331937285068058624  @DCPCentralDelhi यह घटना मोरी गेट गोल चक्कर के...   \n",
       "1331659797360361472  @DcpNorthDelhi Sir From last three  months  ja...   \n",
       "1331446471669936128  अनाज वितरण प्रणाली व्यवस्था और #कोरोना_काल के ...   \n",
       "1331211552855212032  दिल्ली पुलिस उत्तरी ज़िला ने आज एक नए कम्यूनिट...   \n",
       "1330456822336155650  @DcpNorthDelhi @CPDelhi no social distance mai...   \n",
       "1330456822336155650  @DcpNorthDelhi @CPDelhi no social distance mai...   \n",
       "1330582374342565889  @dtptraffic क्यों तमाशा बना रखा हैं जनता का\\nस...   \n",
       "1330538471602089985  @DcpNorthDelhi @DelhiPolice @CPDelhi Aab tak k...   \n",
       "1330024230528847872  आज सुबह 5 बजे जब मैं कमला नेहरू रिज (उत्तरी क्...   \n",
       "1330182948696559616  @DcpNorthDelhi @DelhiPolice @CPDelhi मुकुंद वि...   \n",
       "1329728857159524361  @DCPNewDelhi \\nI have Empaly axis bank burari ...   \n",
       "1330167530103721985  Illegal encroachments are hicking in kamla nag...   \n",
       "1329384771256950786  @DCP_CCC_Delhi @DcpNorthDelhi sir please enact...   \n",
       "1329361677985353728  It has been two days since a car was stolen in...   \n",
       "1329795532491870210  @Vicky13616709 @DcpNorthDelhi @CPDelhi @DcpNor...   \n",
       "1329794971352719361  @Faizan2012Jks @DcpNorthDelhi @DCPCentralDelhi...   \n",
       "1307207897160380416  @DcpNorthDelhi   Sir need your help here..\\nDe...   \n",
       "1328745540129996800  @LtGovDelhi @DcpNorthDelhi @CPDelhi @PMOIndia ...   \n",
       "1329320422710513664  दबंगो ने किनारी बाजार व्यापारी की दुकान पर किय...   \n",
       "1329243144219631619  @DcpNorthDelhi @CPDelhi @DelhiPolice Encroachm...   \n",
       "1329114964490035201  @aashish8125 @dtptraffic @ArvindKejriwal @Amit...   \n",
       "1329017880415928321  @dmeastdelhi @AmitShahOffice @AmitShah @CPDelh...   \n",
       "1328966358328111107  @DcpNorthDelhi  @DCPCentralDelhi  @DCPSEastDel...   \n",
       "1328684926057603074  कल रात से दर दर भटक रही है वैशाली, पार्किंग को...   \n",
       "1328318463446720513  I request you to @DcpNorthDelhi please visit o...   \n",
       "1327895274212052992  @DcpNorthDelhi @CPDelhi @LtGovDelhi @DelhiPoli...   \n",
       "1327581769831387137  दिल्ली थाना सब्जी मंडी घंटा घर सब्जी मंडी में ...   \n",
       "\n",
       "                              Label  \n",
       "Id                                   \n",
       "1332328706732244993          report  \n",
       "1331931521742114819          report  \n",
       "1332323643955658754         request  \n",
       "1331937285068058624          report  \n",
       "1331659797360361472  accountability  \n",
       "1331446471669936128  accountability  \n",
       "1331211552855212032    appreciation  \n",
       "1330456822336155650          report  \n",
       "1330456822336155650          report  \n",
       "1330582374342565889  accountability  \n",
       "1330538471602089985  accountability  \n",
       "1330024230528847872         request  \n",
       "1330182948696559616         request  \n",
       "1329728857159524361         request  \n",
       "1330167530103721985          report  \n",
       "1329384771256950786          report  \n",
       "1329361677985353728  accountability  \n",
       "1329795532491870210           other  \n",
       "1329794971352719361           other  \n",
       "1307207897160380416          report  \n",
       "1328745540129996800  accountability  \n",
       "1329320422710513664  accountability  \n",
       "1329243144219631619  accountability  \n",
       "1329114964490035201           other  \n",
       "1329017880415928321         request  \n",
       "1328966358328111107          report  \n",
       "1328684926057603074  accountability  \n",
       "1328318463446720513         request  \n",
       "1327895274212052992  accountability  \n",
       "1327581769831387137  accountability  "
      ]
     },
     "execution_count": 48,
     "metadata": {},
     "output_type": "execute_result"
    }
   ],
   "source": [
    "with open('Section-1_Q3_labels.pkl', 'rb') as f:\n",
    "    labels = pk.load(f)\n",
    "\n",
    "labels_df = pd.DataFrame({'Id': [t.id for t in subsample],\n",
    "                          'Text': [t.full_text for t in subsample],\n",
    "                          'Label': labels})\n",
    "labels_df.set_index('Id', inplace = True)\n",
    "labels_df"
   ]
  },
  {
   "cell_type": "code",
   "execution_count": null,
   "id": "e53701ec",
   "metadata": {},
   "outputs": [],
   "source": []
  }
 ],
 "metadata": {
  "kernelspec": {
   "display_name": "Python 3",
   "language": "python",
   "name": "python3"
  },
  "language_info": {
   "codemirror_mode": {
    "name": "ipython",
    "version": 3
   },
   "file_extension": ".py",
   "mimetype": "text/x-python",
   "name": "python",
   "nbconvert_exporter": "python",
   "pygments_lexer": "ipython3",
   "version": "3.8.8"
  }
 },
 "nbformat": 4,
 "nbformat_minor": 5
}
